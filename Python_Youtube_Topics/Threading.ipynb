{
 "cells": [
  {
   "cell_type": "code",
   "execution_count": 2,
   "metadata": {},
   "outputs": [
    {
     "name": "stdout",
     "output_type": "stream",
     "text": [
      "Sleeping for 1 seconds\n",
      "Done sleeping\n",
      "Sleeping for 1 seconds\n",
      "Done sleeping\n",
      "Sleeping for 1 seconds\n",
      "Done sleeping\n",
      "Finished in 3.01 second(s)\n"
     ]
    }
   ],
   "source": [
    "# without threading\n",
    "\n",
    "import threading , time\n",
    "\n",
    "start = time.perf_counter()\n",
    "\n",
    "def do_something(seconds):\n",
    "    \n",
    "    print(f'Sleeping for {seconds} seconds')\n",
    "    time.sleep(seconds)\n",
    "    print('Done sleeping')\n",
    "    \n",
    "# calling the function multiple times\n",
    "\n",
    "do_something(1)\n",
    "do_something(1)\n",
    "do_something(1)\n",
    "\n",
    "end = time.perf_counter()\n",
    "\n",
    "print(f'Finished in {round(end-start, 2)} second(s)')\n",
    "\n",
    "    "
   ]
  },
  {
   "cell_type": "code",
   "execution_count": 7,
   "metadata": {},
   "outputs": [
    {
     "name": "stdout",
     "output_type": "stream",
     "text": [
      "Sleeping for 1 seconds\n",
      "Sleeping for 1 seconds\n",
      "Sleeping for 1 seconds\n",
      "Done sleeping\n",
      "Done sleeping\n",
      "Done sleeping\n",
      "Finished in 1.02 second(s)\n"
     ]
    }
   ],
   "source": [
    "# with threading\n",
    "\n",
    "import threading , time\n",
    "\n",
    "start = time.perf_counter()\n",
    "\n",
    "def do_something(seconds):\n",
    "    \n",
    "    print(f'Sleeping for {seconds} seconds')\n",
    "    time.sleep(seconds)\n",
    "    print('Done sleeping')\n",
    "\n",
    "t1 =  threading.Thread(target = do_something, args= [1])\n",
    "t2 =  threading.Thread(target = do_something, args= [1])\n",
    "t3 =  threading.Thread(target = do_something, args= [1])\n",
    "\n",
    "t1.start()\n",
    "t2.start()\n",
    "t3.start()\n",
    "\n",
    "t1.join()\n",
    "t2.join()\n",
    "t3.join()\n",
    "\n",
    "end = time.perf_counter()\n",
    "\n",
    "print(f'Finished in {round(end-start, 2)} second(s)')"
   ]
  },
  {
   "cell_type": "code",
   "execution_count": 10,
   "metadata": {},
   "outputs": [
    {
     "name": "stdout",
     "output_type": "stream",
     "text": [
      "Sleeping for 1 seconds\n",
      "Sleeping for 1 secondsSleeping for 1 seconds\n",
      "\n",
      "Sleeping for 1 seconds\n",
      "Sleeping for 1 seconds\n",
      "Sleeping for 1 seconds\n",
      "Sleeping for 1 seconds\n",
      "Sleeping for 1 seconds\n",
      "Sleeping for 1 seconds\n",
      "Sleeping for 1 seconds\n",
      "Done sleeping\n",
      "Done sleepingDone sleeping\n",
      "\n",
      "Done sleeping\n",
      "Done sleeping\n",
      "Done sleeping\n",
      "Done sleeping\n",
      "Done sleepingDone sleeping\n",
      "\n",
      "Done sleeping\n",
      "Finished in 1.04 second(s)\n"
     ]
    }
   ],
   "source": [
    "# using a for loop to start threads\n",
    "\n",
    "import threading , time\n",
    "\n",
    "start = time.perf_counter()\n",
    "\n",
    "def do_something(seconds):\n",
    "    \n",
    "    print(f'Sleeping for {seconds} seconds')\n",
    "    time.sleep(seconds)\n",
    "    print('Done sleeping')\n",
    "\n",
    "threads = []\n",
    "    \n",
    "for _ in range(10):\n",
    "    t = threading.Thread(target = do_something, args =[1])\n",
    "    t.start()\n",
    "    threads.append(t)\n",
    "    \n",
    "for thread in threads:\n",
    "    thread.join()\n",
    "\n",
    "end = time.perf_counter()\n",
    "\n",
    "print(f'Finished in {round(end-start, 2)} second(s)')"
   ]
  },
  {
   "cell_type": "code",
   "execution_count": 1,
   "metadata": {},
   "outputs": [
    {
     "name": "stdout",
     "output_type": "stream",
     "text": [
      "Sleeping for 3 seconds\n",
      "Sleeping for 1 seconds\n",
      "Sleeping for 5 seconds\n",
      "Sleeping for 4 seconds\n",
      "Sleeping for 2 seconds\n",
      "Sleeping for 0 seconds\n",
      "Done sleeping\n",
      "Sleeping for 10 seconds\n",
      "Sleeping for 2 seconds\n",
      "Done sleeping\n",
      "Done sleeping\n",
      "Done sleeping\n",
      "Done sleeping\n",
      "Done sleeping\n",
      "Done sleeping\n",
      "Done sleeping\n",
      "[0, 1, 2, 2, 3, 4, 5, 10]\n",
      "Finished in 10.04 second(s)\n"
     ]
    }
   ],
   "source": [
    "# in python 3.2 we have threadpool executor\n",
    "# implementing sleep sort \n",
    "\n",
    "import concurrent.futures\n",
    "\n",
    "import threading , time\n",
    "\n",
    "start = time.perf_counter()\n",
    "sorted_list = []\n",
    "\n",
    "def do_something(seconds):\n",
    "    \n",
    "    print(f'Sleeping for {seconds} seconds')\n",
    "    time.sleep(seconds)\n",
    "    sorted_list.append(seconds)\n",
    "    print('Done sleeping')\n",
    "\n",
    "# with concurrent.futures.ThreadPoolExecutor() as executor:\n",
    "#     f1 = executor.submit(do_something,1)\n",
    "#     f1.result()\n",
    "\n",
    "with concurrent.futures.ThreadPoolExecutor() as executor:\n",
    "    my_list = [3,1,5,4,2,0,10, 2]\n",
    "    results = executor.map(do_something, my_list)\n",
    "\n",
    "print(sorted_list)\n",
    "\n",
    "end = time.perf_counter()\n",
    "\n",
    "print(f'Finished in {round(end-start, 2)} second(s)')"
   ]
  },
  {
   "cell_type": "code",
   "execution_count": 16,
   "metadata": {},
   "outputs": [
    {
     "data": {
      "text/plain": [
       "[1, 2, 3, 4, 5]"
      ]
     },
     "execution_count": 16,
     "metadata": {},
     "output_type": "execute_result"
    }
   ],
   "source": [
    "sorted_list"
   ]
  },
  {
   "cell_type": "code",
   "execution_count": 2,
   "metadata": {},
   "outputs": [
    {
     "name": "stdout",
     "output_type": "stream",
     "text": [
      "[1, 2, 3, 4, 5]\n",
      "Sort completed in 5.01 second(s)\n"
     ]
    }
   ],
   "source": [
    "import concurrent.futures\n",
    "import time\n",
    "\n",
    "start = time.perf_counter()\n",
    "\n",
    "sorted_list =[]\n",
    "\n",
    "def sleep_sort(seconds):\n",
    "    time.sleep(seconds)\n",
    "    sorted_list.append(seconds)\n",
    "    \n",
    "with concurrent.futures.ThreadPoolExecutor() as executor:\n",
    "    unsorted_list = [3,1,5,2,4]\n",
    "    results = executor.map(sleep_sort, unsorted_list)\n",
    "\n",
    "print(sorted_list)\n",
    "    \n",
    "end = time.perf_counter()\n",
    "print(f'Sort completed in {round(end-start, 2)} second(s)')\n"
   ]
  },
  {
   "cell_type": "code",
   "execution_count": null,
   "metadata": {},
   "outputs": [],
   "source": [
    "import concurrent.futures\n",
    "import time\n",
    "\n",
    "sorted_list =[]\n",
    "\n",
    "def sleep_sort(seconds):\n",
    "    time.sleep(seconds)\n",
    "    sorted_list.append(seconds)\n",
    "    \n",
    "with concurrent.futures.ThreadPoolExecutor() as executor:\n",
    "    unsorted_list = [3,1,5,2,4]\n",
    "    results = executor.map(sleep_sort, unsorted_list)\n",
    "\n",
    "print(sorted_list)"
   ]
  }
 ],
 "metadata": {
  "kernelspec": {
   "display_name": "Python 3",
   "language": "python",
   "name": "python3"
  },
  "language_info": {
   "codemirror_mode": {
    "name": "ipython",
    "version": 3
   },
   "file_extension": ".py",
   "mimetype": "text/x-python",
   "name": "python",
   "nbconvert_exporter": "python",
   "pygments_lexer": "ipython3",
   "version": "3.6.5"
  }
 },
 "nbformat": 4,
 "nbformat_minor": 2
}
