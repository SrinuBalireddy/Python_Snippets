{
 "cells": [
  {
   "cell_type": "code",
   "execution_count": null,
   "metadata": {},
   "outputs": [],
   "source": [
    "# first class functions\n",
    "\n",
    "\"\"\" A programming is said to have first class functions if it treats functions as first class functions \"\"\"\n",
    "\n",
    "# first class citizens\n",
    "\n",
    "\"\"\" \n",
    "A first class citizens(also first class objects) in a programming language is an entity which supports all \n",
    "the operations generally available to other entities. These operations typically include being passed as an\n",
    "argument , returned from a function, and assigned to a variable\n",
    "\"\"\""
   ]
  },
  {
   "cell_type": "code",
   "execution_count": 12,
   "metadata": {},
   "outputs": [
    {
     "name": "stdout",
     "output_type": "stream",
     "text": [
      "<function square at 0x000002B38D0BBAE8>\n",
      "25\n"
     ]
    }
   ],
   "source": [
    "# assigning function to a variable\n",
    "\n",
    "def square(x):\n",
    "    return x*x\n",
    "\n",
    "res = square(5)\n",
    "\n",
    "print(square)\n",
    "print(res)"
   ]
  },
  {
   "cell_type": "code",
   "execution_count": 3,
   "metadata": {},
   "outputs": [
    {
     "name": "stdout",
     "output_type": "stream",
     "text": [
      "<function square at 0x000002B38D157EA0>\n",
      "<function square at 0x000002B38D157EA0>\n"
     ]
    }
   ],
   "source": [
    "# in the above example while declaring res variable and assigning it to square(5)\n",
    "# we can remove the argument to the square function and set of variable res = square\n",
    "\n",
    "res = square\n",
    "\n",
    "print(square)\n",
    "print(res)\n",
    "\n",
    "# now the res is also function\n",
    "\"\"\"\n",
    "This is one of the ascepts of what it means to be FIRST CLASS FUNCTIONS\n",
    "Now we can treat the variable res as a function\n",
    "\"\"\"\n",
    "\n"
   ]
  },
  {
   "cell_type": "code",
   "execution_count": 4,
   "metadata": {},
   "outputs": [
    {
     "name": "stdout",
     "output_type": "stream",
     "text": [
      "25\n"
     ]
    }
   ],
   "source": [
    "# using res variable to execute the function\n",
    "\n",
    "print(res(5))"
   ]
  },
  {
   "cell_type": "code",
   "execution_count": 14,
   "metadata": {},
   "outputs": [
    {
     "name": "stdout",
     "output_type": "stream",
     "text": [
      "[1, 4, 9, 16, 25]\n"
     ]
    }
   ],
   "source": [
    "\"\"\" \n",
    "A function can also accept function as an argument and also return a function\n",
    "These functions are called Higher order functions or Decorators\n",
    "\"\"\"\n",
    "\n",
    "# passing a function as a argument. like map function which executes the list of values against a function\n",
    "# map function has two arguments. first - function name, second - list of values.\n",
    "\n",
    "# lets create a custom map function\n",
    "\n",
    "def my_map(func, arg_list):\n",
    "    \n",
    "    result = []\n",
    "    for i in arg_list:\n",
    "        result.append(func(i)) \n",
    "\n",
    "    return result\n",
    "\n",
    "# in the above function my_map we are taking in a function as first argument \n",
    "# and a list as second, then for every item in the list, we are executing the \n",
    "# function in the first argument and returning the result list.\n",
    "\n",
    "# for the below expr, we are passing in our previous square as first argument.\n",
    "\n",
    "res = my_map(square, [1,2,3,4,5])  # notice we are just passing square not square()\n",
    "print(res)"
   ]
  },
  {
   "cell_type": "code",
   "execution_count": 15,
   "metadata": {},
   "outputs": [
    {
     "name": "stdout",
     "output_type": "stream",
     "text": [
      "[1, 8, 27, 64, 125]\n"
     ]
    }
   ],
   "source": [
    "# now instead of square function we can pass in new cube function to my_map function\n",
    "\n",
    "def cube(x):\n",
    "    return x*x*x\n",
    "\n",
    "# always the inner function should be above the map function in python\n",
    "# for that reason i have defined the my_map here again\n",
    "\n",
    "def my_map(func, arg_list):\n",
    "    \n",
    "    result = []\n",
    "    for i in arg_list:\n",
    "        result.append(func(i)) \n",
    "\n",
    "    return result\n",
    "\n",
    "res = my_map(cube, [1,2,3,4,5])\n",
    "print(res)\n",
    "\n",
    "# here we are able to use the same my_map function but passed in cube function\n",
    "# this is how map function works under the hood."
   ]
  },
  {
   "cell_type": "code",
   "execution_count": 17,
   "metadata": {},
   "outputs": [
    {
     "name": "stdout",
     "output_type": "stream",
     "text": [
      "Hi First message\n"
     ]
    }
   ],
   "source": [
    "# writing a function that returns a function\n",
    "\n",
    "def logger(msg):\n",
    "    \n",
    "    def log_message():\n",
    "        print('Hi '+ msg)\n",
    "    \n",
    "    return log_message\n",
    "\n",
    "log_hi = logger('First message')\n",
    "log_hi()     # in this step it remembered the message we have sent in the above line- which is nothing by a closure\n",
    "\n",
    "# here log_hi varaible is nothing but log_message() function\n"
   ]
  },
  {
   "cell_type": "code",
   "execution_count": 19,
   "metadata": {},
   "outputs": [
    {
     "name": "stdout",
     "output_type": "stream",
     "text": [
      "<h1><First headline></h1>\n"
     ]
    }
   ],
   "source": [
    "# one more example\n",
    "\n",
    "def html_tag(tag):\n",
    "    \n",
    "    def wrap_tag(msg):\n",
    "        print(f'<{tag}><{msg}></{tag}>')\n",
    "        \n",
    "    return wrap_tag\n",
    "\n",
    "html_hi = html_tag('h1')\n",
    "html_hi('First headline')   # the wrap_tag function takes in an argument msg"
   ]
  },
  {
   "cell_type": "code",
   "execution_count": null,
   "metadata": {},
   "outputs": [],
   "source": []
  }
 ],
 "metadata": {
  "kernelspec": {
   "display_name": "Python 3",
   "language": "python",
   "name": "python3"
  },
  "language_info": {
   "codemirror_mode": {
    "name": "ipython",
    "version": 3
   },
   "file_extension": ".py",
   "mimetype": "text/x-python",
   "name": "python",
   "nbconvert_exporter": "python",
   "pygments_lexer": "ipython3",
   "version": "3.6.5"
  }
 },
 "nbformat": 4,
 "nbformat_minor": 2
}
