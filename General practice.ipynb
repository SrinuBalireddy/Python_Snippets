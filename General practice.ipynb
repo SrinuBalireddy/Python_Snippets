{
 "cells": [
  {
   "cell_type": "code",
   "execution_count": 15,
   "metadata": {},
   "outputs": [
    {
     "name": "stdout",
     "output_type": "stream",
     "text": [
      "[1, 3, 4, 6, 8, 1, 3, 4, 6, 8, 9]\n"
     ]
    },
    {
     "data": {
      "text/plain": [
       "9"
      ]
     },
     "execution_count": 15,
     "metadata": {},
     "output_type": "execute_result"
    }
   ],
   "source": [
    "# identify missing element from a list in comparision to an other list\n",
    "\n",
    "def item_missing(full_list, partial_list):\n",
    "    \n",
    "    new_list = full_list + partial_list\n",
    "    print(new_list)\n",
    "    new_dict = {}\n",
    "    \n",
    "    for item in new_list:\n",
    "\n",
    "        if item in new_dict:\n",
    "            new_dict[item] = new_dict[item] + 1\n",
    "        else:\n",
    "            new_dict.setdefault(item,1)\n",
    "            \n",
    "    for key, value in new_dict.items():\n",
    "        if value == 1:\n",
    "            return key\n",
    "        \n",
    "    return \"Lists match\"\n",
    "\n",
    "item_missing([1,3,4,6,8], [1,3,4,6,8,9])"
   ]
  },
  {
   "cell_type": "code",
   "execution_count": 20,
   "metadata": {},
   "outputs": [
    {
     "data": {
      "text/plain": [
       "{11}"
      ]
     },
     "execution_count": 20,
     "metadata": {},
     "output_type": "execute_result"
    }
   ],
   "source": [
    "# identify missing element from a list in comparision to an other list\n",
    "\n",
    "def item_missing(full_list, partial_list):\n",
    "    missing_items = set(full_list) - set(partial_list)\n",
    "    return missing_items\n",
    "\n",
    "\n",
    "item_missing([1,3,4,6,8,9,10,11], [1,3,4,6,8,9,10])"
   ]
  },
  {
   "cell_type": "code",
   "execution_count": 24,
   "metadata": {},
   "outputs": [
    {
     "name": "stdout",
     "output_type": "stream",
     "text": [
      "Sleeping for 1 second\n",
      "Sleeping for 1 second\n",
      "Done sleeping\n",
      "Done sleeping\n",
      "finished in 1.01 second(s)\n"
     ]
    }
   ],
   "source": [
    "# threading\n",
    "\n",
    "import threading, time\n",
    "\n",
    "start = time.perf_counter()\n",
    "\n",
    "def do_something(x):\n",
    "    \n",
    "    print('Sleeping for 1 second')\n",
    "    time.sleep(x)\n",
    "    print('Done sleeping')\n",
    "    \n",
    "t1 = threading.Thread(target=do_something, args=[1])\n",
    "t2 = threading.Thread(target=do_something, args=[1])\n",
    "t1.start()\n",
    "t2.start()\n",
    "\n",
    "t1.join()\n",
    "t2.join()\n",
    "\n",
    "end = time.perf_counter()\n",
    "print(f'finished in {round(end-start,2)} second(s)')"
   ]
  },
  {
   "cell_type": "code",
   "execution_count": 25,
   "metadata": {},
   "outputs": [
    {
     "name": "stdout",
     "output_type": "stream",
     "text": [
      "3\n"
     ]
    }
   ],
   "source": [
    "# Xor\n",
    "\n",
    "my_list = [1, 3, 6, 7]\n",
    "xor = 0\n",
    "\n",
    "for num in my_list:\n",
    "    xor ^= num\n",
    "    \n",
    "print(xor)"
   ]
  },
  {
   "cell_type": "code",
   "execution_count": 29,
   "metadata": {},
   "outputs": [
    {
     "name": "stdout",
     "output_type": "stream",
     "text": [
      "0\n",
      "11\n"
     ]
    },
    {
     "data": {
      "text/plain": [
       "11"
      ]
     },
     "execution_count": 29,
     "metadata": {},
     "output_type": "execute_result"
    }
   ],
   "source": [
    "def item_missing(full_list, partial_list):\n",
    "    xor = 0\n",
    "    \n",
    "    for num in full_list:\n",
    "        xor ^= num\n",
    "    \n",
    "    print(xor)\n",
    "    for num in partial_list:\n",
    "        xor ^= num\n",
    "        \n",
    "    print(xor)\n",
    "    return xor\n",
    "\n",
    "\n",
    "item_missing([1,3,4,6,8,9,10,11], [1,3,4,6,8,9,10])"
   ]
  },
  {
   "cell_type": "code",
   "execution_count": 63,
   "metadata": {},
   "outputs": [
    {
     "data": {
      "text/plain": [
       "(1, 8)"
      ]
     },
     "execution_count": 63,
     "metadata": {},
     "output_type": "execute_result"
    }
   ],
   "source": [
    "# given a list find the numbers that sum up to a target value\n",
    "\n",
    "my_list =[1, 8, 11, 12, 7, 9, 13, 4]\n",
    "target = 9\n",
    "\n",
    "my_list.index(13)\n",
    "\n",
    "\n",
    "def target_sum(my_list, target):\n",
    "    \n",
    "    for num in my_list:\n",
    "        diff = target - num\n",
    "        if diff in my_list[my_list.index(num)+1:]:\n",
    "            return (num, diff)\n",
    "\n",
    "    return False\n",
    "\n",
    "target_sum(my_list, target)"
   ]
  },
  {
   "cell_type": "code",
   "execution_count": 62,
   "metadata": {},
   "outputs": [
    {
     "data": {
      "text/plain": [
       "(0, 1)"
      ]
     },
     "execution_count": 62,
     "metadata": {},
     "output_type": "execute_result"
    }
   ],
   "source": [
    "my_list =[1, 8, 11, 12, 7, 9, 13, 4]\n",
    "target = 9\n",
    "\n",
    "def target_sum_new(my_list, target):\n",
    "    res = {}\n",
    "    for i, val in enumerate(my_list):\n",
    "        try:\n",
    "            return (res[val], i)\n",
    "        except KeyError:\n",
    "            res[target-val] = i\n",
    "    \n",
    "    return (-1,-1)\n",
    "\n",
    "target_sum_new(my_list, target)   "
   ]
  },
  {
   "cell_type": "code",
   "execution_count": 54,
   "metadata": {},
   "outputs": [
    {
     "data": {
      "text/plain": [
       "(0, 1)"
      ]
     },
     "execution_count": 54,
     "metadata": {},
     "output_type": "execute_result"
    }
   ],
   "source": [
    "def find_two_sum(numbers, target_sum):\n",
    "        seen = {}\n",
    "        for i, num in enumerate(numbers):\n",
    "            try:\n",
    "                return (seen[num], i)\n",
    "            except KeyError:\n",
    "                seen[target_sum - num] = i\n",
    "        return (-1, -1)\n",
    "    \n",
    "my_list =[1, 8, 11, 12, 7, 9, 13, 4]\n",
    "target = 9\n",
    "\n",
    "\n",
    "find_two_sum(my_list, target)   "
   ]
  },
  {
   "cell_type": "code",
   "execution_count": 69,
   "metadata": {},
   "outputs": [
    {
     "data": {
      "text/plain": [
       "'first test! a is two This,'"
      ]
     },
     "execution_count": 69,
     "metadata": {},
     "output_type": "execute_result"
    }
   ],
   "source": [
    "# reversing a string including punctation\n",
    "# 'This, is a test!'  to 'test! a is This,'\n",
    "\n",
    "def reversestr(input_str):\n",
    "    \n",
    "    str_list = input_str.split(' ')\n",
    "    \n",
    "    return ' '.join(str_list[::-1])\n",
    "    \n",
    "    #return ' '.join(str_list[::-1])\n",
    "\n",
    "reversestr('This, two is a test! first')"
   ]
  },
  {
   "cell_type": "code",
   "execution_count": 75,
   "metadata": {},
   "outputs": [
    {
     "ename": "SyntaxError",
     "evalue": "invalid syntax (<ipython-input-75-b95faecc5f65>, line 5)",
     "output_type": "error",
     "traceback": [
      "\u001b[1;36m  File \u001b[1;32m\"<ipython-input-75-b95faecc5f65>\"\u001b[1;36m, line \u001b[1;32m5\u001b[0m\n\u001b[1;33m    a=1?\u001b[0m\n\u001b[1;37m       ^\u001b[0m\n\u001b[1;31mSyntaxError\u001b[0m\u001b[1;31m:\u001b[0m invalid syntax\n"
     ]
    }
   ],
   "source": [
    "# Do functions (or methods) return something even if there isn't a return statement? If so, what do they return?\n",
    "\n",
    "def something():\n",
    "    \n",
    "    a=1?\n",
    "    \n",
    "something()"
   ]
  },
  {
   "cell_type": "code",
   "execution_count": 7,
   "metadata": {},
   "outputs": [
    {
     "data": {
      "text/plain": [
       "'Randomized respondent ID number (not in order of survey response time)'"
      ]
     },
     "execution_count": 7,
     "metadata": {},
     "output_type": "execute_result"
    }
   ],
   "source": [
    "import csv\n",
    "example = open(r\"C:\\Users\\srinu\\Desktop\\Python_snippets\\pandas\\data\\survey_results_schema.csv\")\n",
    "read = csv.reader(example)\n",
    "list(read)[1][1]\n",
    "\n",
    "\n"
   ]
  },
  {
   "cell_type": "code",
   "execution_count": 23,
   "metadata": {},
   "outputs": [
    {
     "data": {
      "text/plain": [
       "'7890'"
      ]
     },
     "execution_count": 23,
     "metadata": {},
     "output_type": "execute_result"
    }
   ],
   "source": [
    "import re\n",
    "\n",
    "ph = re.compile(r'(\\d{3})-(\\d{3})-(\\d{4})')\n",
    "ph_res = ph.search('123-456-7890')\n",
    "a,b,c = ph_res.groups()\n",
    "c"
   ]
  },
  {
   "cell_type": "code",
   "execution_count": 31,
   "metadata": {},
   "outputs": [
    {
     "ename": "SyntaxError",
     "evalue": "invalid syntax (<ipython-input-31-22a1cebd8ee3>, line 1)",
     "output_type": "error",
     "traceback": [
      "\u001b[1;36m  File \u001b[1;32m\"<ipython-input-31-22a1cebd8ee3>\"\u001b[1;36m, line \u001b[1;32m1\u001b[0m\n\u001b[1;33m    (lambda x: x**2)(for x in range(10))\u001b[0m\n\u001b[1;37m                       ^\u001b[0m\n\u001b[1;31mSyntaxError\u001b[0m\u001b[1;31m:\u001b[0m invalid syntax\n"
     ]
    }
   ],
   "source": [
    "(lambda x: x**2)(for x in range(10))\n"
   ]
  },
  {
   "cell_type": "code",
   "execution_count": 63,
   "metadata": {},
   "outputs": [
    {
     "data": {
      "text/plain": [
       "[2, 16, 26, 30, 35]"
      ]
     },
     "execution_count": 63,
     "metadata": {},
     "output_type": "execute_result"
    }
   ],
   "source": [
    "# lottery draw\n",
    "\n",
    "def draw():\n",
    "    \"\"\"\n",
    "    lottery draw \n",
    "    \"\"\"\n",
    "    import random\n",
    "    \n",
    "    # result list with 5 random numbers\n",
    "    result = []\n",
    "\n",
    "    # loop thru 5 random numbers\n",
    "    for _ in range(5):\n",
    "        valid = True\n",
    "        label = random.randint(1,100)\n",
    "        # create a infinite loop until a number between 1 to 36  has been\n",
    "        # inserted into the result list\n",
    "        while valid:\n",
    "            # check if the lable is in the range 1 to 36\n",
    "            if label in range(1,36):\n",
    "                # check if the count of the label in list is more than 2\n",
    "                if result.count(label) > 2:\n",
    "                    label = random.randint(1,100)\n",
    "                else:\n",
    "                    result.append(label)\n",
    "                    valid = False\n",
    "            else:\n",
    "                label = random.randint(1,100)   \n",
    "    # sort the list to output the ascending order of the result\n",
    "    result.sort()\n",
    "    return result\n",
    "\n",
    "draw()"
   ]
  },
  {
   "cell_type": "code",
   "execution_count": 79,
   "metadata": {
    "scrolled": true
   },
   "outputs": [
    {
     "name": "stderr",
     "output_type": "stream",
     "text": [
      ".."
     ]
    },
    {
     "name": "stdout",
     "output_type": "stream",
     "text": [
      "[8, 26, 32, 34, 34]\n"
     ]
    },
    {
     "name": "stderr",
     "output_type": "stream",
     "text": [
      "\n",
      "----------------------------------------------------------------------\n",
      "Ran 2 tests in 0.003s\n",
      "\n",
      "OK\n"
     ]
    }
   ],
   "source": [
    "import unittest\n",
    "\n",
    "class drawtest(unittest.TestCase):\n",
    "    \n",
    "    def test_draw(self):\n",
    "        self.result = draw()\n",
    "        print(self.result)\n",
    "        for value in self.result:\n",
    "            assert self.result.count(value) <= 2, \"Invalid Result\"\n",
    "            \n",
    "if __name__ == \"__main__\":\n",
    "    unittest.main(argv=['First-arg-is-ignored'], exit=False)"
   ]
  },
  {
   "cell_type": "code",
   "execution_count": 8,
   "metadata": {},
   "outputs": [
    {
     "data": {
      "text/plain": [
       "'16'"
      ]
     },
     "execution_count": 8,
     "metadata": {},
     "output_type": "execute_result"
    }
   ],
   "source": [
    "import random\n",
    "\n",
    "number = random.randint(10000,20001)\n",
    "str(number)[:2]\n"
   ]
  },
  {
   "cell_type": "code",
   "execution_count": 9,
   "metadata": {},
   "outputs": [
    {
     "data": {
      "text/plain": [
       "1000"
      ]
     },
     "execution_count": 9,
     "metadata": {},
     "output_type": "execute_result"
    }
   ],
   "source": [
    "1000+int('00')"
   ]
  },
  {
   "cell_type": "code",
   "execution_count": null,
   "metadata": {},
   "outputs": [],
   "source": []
  }
 ],
 "metadata": {
  "kernelspec": {
   "display_name": "Python 3",
   "language": "python",
   "name": "python3"
  },
  "language_info": {
   "codemirror_mode": {
    "name": "ipython",
    "version": 3
   },
   "file_extension": ".py",
   "mimetype": "text/x-python",
   "name": "python",
   "nbconvert_exporter": "python",
   "pygments_lexer": "ipython3",
   "version": "3.6.5"
  }
 },
 "nbformat": 4,
 "nbformat_minor": 2
}
