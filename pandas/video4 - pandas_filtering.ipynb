{
 "cells": [
  {
   "cell_type": "code",
   "execution_count": 1,
   "metadata": {},
   "outputs": [
    {
     "data": {
      "text/html": [
       "<div>\n",
       "<style scoped>\n",
       "    .dataframe tbody tr th:only-of-type {\n",
       "        vertical-align: middle;\n",
       "    }\n",
       "\n",
       "    .dataframe tbody tr th {\n",
       "        vertical-align: top;\n",
       "    }\n",
       "\n",
       "    .dataframe thead th {\n",
       "        text-align: right;\n",
       "    }\n",
       "</style>\n",
       "<table border=\"1\" class=\"dataframe\">\n",
       "  <thead>\n",
       "    <tr style=\"text-align: right;\">\n",
       "      <th></th>\n",
       "      <th>first</th>\n",
       "      <th>last</th>\n",
       "      <th>email</th>\n",
       "    </tr>\n",
       "  </thead>\n",
       "  <tbody>\n",
       "    <tr>\n",
       "      <th>0</th>\n",
       "      <td>srinu</td>\n",
       "      <td>balireddy</td>\n",
       "      <td>abc@abc.com</td>\n",
       "    </tr>\n",
       "    <tr>\n",
       "      <th>1</th>\n",
       "      <td>sow</td>\n",
       "      <td>yalla</td>\n",
       "      <td>kbc@kbc.com</td>\n",
       "    </tr>\n",
       "    <tr>\n",
       "      <th>2</th>\n",
       "      <td>abc</td>\n",
       "      <td>abc</td>\n",
       "      <td>abc@abc.com</td>\n",
       "    </tr>\n",
       "  </tbody>\n",
       "</table>\n",
       "</div>"
      ],
      "text/plain": [
       "   first       last        email\n",
       "0  srinu  balireddy  abc@abc.com\n",
       "1    sow      yalla  kbc@kbc.com\n",
       "2    abc        abc  abc@abc.com"
      ]
     },
     "execution_count": 1,
     "metadata": {},
     "output_type": "execute_result"
    }
   ],
   "source": [
    "# pasting the previous video of people dictionary data\n",
    "\n",
    "people = {\n",
    "    \"first\": ['srinu','sow','abc'],\n",
    "    \"last\" : ['balireddy','yalla','abc'],\n",
    "    \"email\": ['abc@abc.com','kbc@kbc.com','abc@abc.com']\n",
    "}\n",
    "\n",
    "import pandas as pd\n",
    "df = pd.DataFrame(people)\n",
    "df"
   ]
  },
  {
   "cell_type": "code",
   "execution_count": 2,
   "metadata": {},
   "outputs": [
    {
     "data": {
      "text/plain": [
       "0    False\n",
       "1     True\n",
       "2    False\n",
       "Name: last, dtype: bool"
      ]
     },
     "execution_count": 2,
     "metadata": {},
     "output_type": "execute_result"
    }
   ],
   "source": [
    "# to identify people with last name = yalla\n",
    "\n",
    "df['last'] == 'yalla'\n",
    "\n",
    "#  it provides a series of boolean result of True false where the data met and not met our filter criteria respectively"
   ]
  },
  {
   "cell_type": "code",
   "execution_count": 3,
   "metadata": {},
   "outputs": [
    {
     "data": {
      "text/html": [
       "<div>\n",
       "<style scoped>\n",
       "    .dataframe tbody tr th:only-of-type {\n",
       "        vertical-align: middle;\n",
       "    }\n",
       "\n",
       "    .dataframe tbody tr th {\n",
       "        vertical-align: top;\n",
       "    }\n",
       "\n",
       "    .dataframe thead th {\n",
       "        text-align: right;\n",
       "    }\n",
       "</style>\n",
       "<table border=\"1\" class=\"dataframe\">\n",
       "  <thead>\n",
       "    <tr style=\"text-align: right;\">\n",
       "      <th></th>\n",
       "      <th>first</th>\n",
       "      <th>last</th>\n",
       "      <th>email</th>\n",
       "    </tr>\n",
       "  </thead>\n",
       "  <tbody>\n",
       "    <tr>\n",
       "      <th>1</th>\n",
       "      <td>sow</td>\n",
       "      <td>yalla</td>\n",
       "      <td>kbc@kbc.com</td>\n",
       "    </tr>\n",
       "  </tbody>\n",
       "</table>\n",
       "</div>"
      ],
      "text/plain": [
       "  first   last        email\n",
       "1   sow  yalla  kbc@kbc.com"
      ]
     },
     "execution_count": 3,
     "metadata": {},
     "output_type": "execute_result"
    }
   ],
   "source": [
    "# assign the above operation to a variable\n",
    "\n",
    "filt = (df['last'] == 'yalla')    # it is better to put the filter criteria in ()\n",
    "df[filt]\n",
    "\n",
    "# this will give the df output"
   ]
  },
  {
   "cell_type": "code",
   "execution_count": 5,
   "metadata": {},
   "outputs": [
    {
     "data": {
      "text/html": [
       "<div>\n",
       "<style scoped>\n",
       "    .dataframe tbody tr th:only-of-type {\n",
       "        vertical-align: middle;\n",
       "    }\n",
       "\n",
       "    .dataframe tbody tr th {\n",
       "        vertical-align: top;\n",
       "    }\n",
       "\n",
       "    .dataframe thead th {\n",
       "        text-align: right;\n",
       "    }\n",
       "</style>\n",
       "<table border=\"1\" class=\"dataframe\">\n",
       "  <thead>\n",
       "    <tr style=\"text-align: right;\">\n",
       "      <th></th>\n",
       "      <th>email</th>\n",
       "      <th>first</th>\n",
       "    </tr>\n",
       "  </thead>\n",
       "  <tbody>\n",
       "    <tr>\n",
       "      <th>1</th>\n",
       "      <td>kbc@kbc.com</td>\n",
       "      <td>sow</td>\n",
       "    </tr>\n",
       "  </tbody>\n",
       "</table>\n",
       "</div>"
      ],
      "text/plain": [
       "         email first\n",
       "1  kbc@kbc.com   sow"
      ]
     },
     "execution_count": 5,
     "metadata": {},
     "output_type": "execute_result"
    }
   ],
   "source": [
    "# it is better to use loc while providing the filter variable as input \n",
    "# it will help us to grab the specific column name we want to display \n",
    "\n",
    "df.loc[filt]       # this will give the same output as df[filt]\n",
    "\n",
    "df.loc[filt,'email']    # this will display only the email\n",
    "\n",
    "# we can provide more number of columns as well\n",
    "\n",
    "df.loc[filt,['email','first']]    # note the inner list for column names\n"
   ]
  },
  {
   "cell_type": "code",
   "execution_count": 7,
   "metadata": {},
   "outputs": [
    {
     "data": {
      "text/html": [
       "<div>\n",
       "<style scoped>\n",
       "    .dataframe tbody tr th:only-of-type {\n",
       "        vertical-align: middle;\n",
       "    }\n",
       "\n",
       "    .dataframe tbody tr th {\n",
       "        vertical-align: top;\n",
       "    }\n",
       "\n",
       "    .dataframe thead th {\n",
       "        text-align: right;\n",
       "    }\n",
       "</style>\n",
       "<table border=\"1\" class=\"dataframe\">\n",
       "  <thead>\n",
       "    <tr style=\"text-align: right;\">\n",
       "      <th></th>\n",
       "      <th>first</th>\n",
       "      <th>last</th>\n",
       "      <th>email</th>\n",
       "    </tr>\n",
       "  </thead>\n",
       "  <tbody>\n",
       "    <tr>\n",
       "      <th>1</th>\n",
       "      <td>sow</td>\n",
       "      <td>yalla</td>\n",
       "      <td>kbc@kbc.com</td>\n",
       "    </tr>\n",
       "  </tbody>\n",
       "</table>\n",
       "</div>"
      ],
      "text/plain": [
       "  first   last        email\n",
       "1   sow  yalla  kbc@kbc.com"
      ]
     },
     "execution_count": 7,
     "metadata": {},
     "output_type": "execute_result"
    }
   ],
   "source": [
    "# in pandas & represent AND \n",
    "# in pandas | represent OR\n",
    "\n",
    "# to filter last name = yalla and first name = sow\n",
    "\n",
    "filt = (df['last'] == 'yalla') & (df['first'] == 'sow')    # paranthesis are for better representation\n",
    "\n",
    "df[filt]"
   ]
  },
  {
   "cell_type": "code",
   "execution_count": 8,
   "metadata": {},
   "outputs": [
    {
     "data": {
      "text/html": [
       "<div>\n",
       "<style scoped>\n",
       "    .dataframe tbody tr th:only-of-type {\n",
       "        vertical-align: middle;\n",
       "    }\n",
       "\n",
       "    .dataframe tbody tr th {\n",
       "        vertical-align: top;\n",
       "    }\n",
       "\n",
       "    .dataframe thead th {\n",
       "        text-align: right;\n",
       "    }\n",
       "</style>\n",
       "<table border=\"1\" class=\"dataframe\">\n",
       "  <thead>\n",
       "    <tr style=\"text-align: right;\">\n",
       "      <th></th>\n",
       "      <th>first</th>\n",
       "      <th>last</th>\n",
       "      <th>email</th>\n",
       "    </tr>\n",
       "  </thead>\n",
       "  <tbody>\n",
       "    <tr>\n",
       "      <th>0</th>\n",
       "      <td>srinu</td>\n",
       "      <td>balireddy</td>\n",
       "      <td>abc@abc.com</td>\n",
       "    </tr>\n",
       "    <tr>\n",
       "      <th>1</th>\n",
       "      <td>sow</td>\n",
       "      <td>yalla</td>\n",
       "      <td>kbc@kbc.com</td>\n",
       "    </tr>\n",
       "  </tbody>\n",
       "</table>\n",
       "</div>"
      ],
      "text/plain": [
       "   first       last        email\n",
       "0  srinu  balireddy  abc@abc.com\n",
       "1    sow      yalla  kbc@kbc.com"
      ]
     },
     "execution_count": 8,
     "metadata": {},
     "output_type": "execute_result"
    }
   ],
   "source": [
    "# to filter last name = yalla OR first name srinu\n",
    "\n",
    "filt = (df['last'] == 'yalla') | (df['first'] == 'srinu')    # paranthesis are for better representation\n",
    "\n",
    "df[filt]"
   ]
  },
  {
   "cell_type": "code",
   "execution_count": 10,
   "metadata": {},
   "outputs": [
    {
     "data": {
      "text/plain": [
       "0    abc@abc.com\n",
       "1    kbc@kbc.com\n",
       "Name: email, dtype: object"
      ]
     },
     "execution_count": 10,
     "metadata": {},
     "output_type": "execute_result"
    }
   ],
   "source": [
    "# displaying only the email of the above result\n",
    "\n",
    "df.loc[filt,'email']"
   ]
  },
  {
   "cell_type": "code",
   "execution_count": 11,
   "metadata": {},
   "outputs": [
    {
     "data": {
      "text/plain": [
       "2    abc@abc.com\n",
       "Name: email, dtype: object"
      ]
     },
     "execution_count": 11,
     "metadata": {},
     "output_type": "execute_result"
    }
   ],
   "source": [
    "# if we want the opposite of the above condition,\n",
    "# we are use tilda operator(~)\n",
    "\n",
    "df.loc[~filt,'email']"
   ]
  },
  {
   "cell_type": "code",
   "execution_count": 19,
   "metadata": {},
   "outputs": [],
   "source": [
    "# now lets go back to stackover flow dataset and manipulate the data using pandas.\n",
    "# just consolidate the csv file reading code \n",
    "\n",
    "\n",
    "import pandas as pd\n",
    "df        = pd.read_csv('data/survey_results_public.csv')\n",
    "schema_df = pd.read_csv('data/survey_results_schema.csv')\n",
    "\n",
    "pd.set_option('display.max_columns', 10)\n",
    "pd.set_option('display.max_rows', 5)"
   ]
  },
  {
   "cell_type": "code",
   "execution_count": 20,
   "metadata": {},
   "outputs": [
    {
     "data": {
      "text/html": [
       "<div>\n",
       "<style scoped>\n",
       "    .dataframe tbody tr th:only-of-type {\n",
       "        vertical-align: middle;\n",
       "    }\n",
       "\n",
       "    .dataframe tbody tr th {\n",
       "        vertical-align: top;\n",
       "    }\n",
       "\n",
       "    .dataframe thead th {\n",
       "        text-align: right;\n",
       "    }\n",
       "</style>\n",
       "<table border=\"1\" class=\"dataframe\">\n",
       "  <thead>\n",
       "    <tr style=\"text-align: right;\">\n",
       "      <th></th>\n",
       "      <th>Respondent</th>\n",
       "      <th>MainBranch</th>\n",
       "      <th>Hobbyist</th>\n",
       "      <th>OpenSourcer</th>\n",
       "      <th>OpenSource</th>\n",
       "      <th>...</th>\n",
       "      <th>Sexuality</th>\n",
       "      <th>Ethnicity</th>\n",
       "      <th>Dependents</th>\n",
       "      <th>SurveyLength</th>\n",
       "      <th>SurveyEase</th>\n",
       "    </tr>\n",
       "  </thead>\n",
       "  <tbody>\n",
       "    <tr>\n",
       "      <th>5</th>\n",
       "      <td>6</td>\n",
       "      <td>I am not primarily a developer, but I write co...</td>\n",
       "      <td>Yes</td>\n",
       "      <td>Never</td>\n",
       "      <td>The quality of OSS and closed source software ...</td>\n",
       "      <td>...</td>\n",
       "      <td>Straight / Heterosexual</td>\n",
       "      <td>East Asian</td>\n",
       "      <td>No</td>\n",
       "      <td>Too long</td>\n",
       "      <td>Neither easy nor difficult</td>\n",
       "    </tr>\n",
       "    <tr>\n",
       "      <th>8</th>\n",
       "      <td>9</td>\n",
       "      <td>I am a developer by profession</td>\n",
       "      <td>Yes</td>\n",
       "      <td>Once a month or more often</td>\n",
       "      <td>The quality of OSS and closed source software ...</td>\n",
       "      <td>...</td>\n",
       "      <td>Bisexual</td>\n",
       "      <td>White or of European descent</td>\n",
       "      <td>No</td>\n",
       "      <td>Appropriate in length</td>\n",
       "      <td>Neither easy nor difficult</td>\n",
       "    </tr>\n",
       "    <tr>\n",
       "      <th>...</th>\n",
       "      <td>...</td>\n",
       "      <td>...</td>\n",
       "      <td>...</td>\n",
       "      <td>...</td>\n",
       "      <td>...</td>\n",
       "      <td>...</td>\n",
       "      <td>...</td>\n",
       "      <td>...</td>\n",
       "      <td>...</td>\n",
       "      <td>...</td>\n",
       "      <td>...</td>\n",
       "    </tr>\n",
       "    <tr>\n",
       "      <th>88326</th>\n",
       "      <td>88879</td>\n",
       "      <td>I am a developer by profession</td>\n",
       "      <td>Yes</td>\n",
       "      <td>Never</td>\n",
       "      <td>The quality of OSS and closed source software ...</td>\n",
       "      <td>...</td>\n",
       "      <td>Straight / Heterosexual</td>\n",
       "      <td>White or of European descent</td>\n",
       "      <td>No</td>\n",
       "      <td>Appropriate in length</td>\n",
       "      <td>Easy</td>\n",
       "    </tr>\n",
       "    <tr>\n",
       "      <th>88329</th>\n",
       "      <td>88882</td>\n",
       "      <td>I am a developer by profession</td>\n",
       "      <td>Yes</td>\n",
       "      <td>Never</td>\n",
       "      <td>OSS is, on average, of LOWER quality than prop...</td>\n",
       "      <td>...</td>\n",
       "      <td>Straight / Heterosexual</td>\n",
       "      <td>White or of European descent</td>\n",
       "      <td>Yes</td>\n",
       "      <td>Too long</td>\n",
       "      <td>Easy</td>\n",
       "    </tr>\n",
       "  </tbody>\n",
       "</table>\n",
       "<p>20541 rows × 85 columns</p>\n",
       "</div>"
      ],
      "text/plain": [
       "       Respondent                                         MainBranch Hobbyist  \\\n",
       "5               6  I am not primarily a developer, but I write co...      Yes   \n",
       "8               9                     I am a developer by profession      Yes   \n",
       "...           ...                                                ...      ...   \n",
       "88326       88879                     I am a developer by profession      Yes   \n",
       "88329       88882                     I am a developer by profession      Yes   \n",
       "\n",
       "                      OpenSourcer  \\\n",
       "5                           Never   \n",
       "8      Once a month or more often   \n",
       "...                           ...   \n",
       "88326                       Never   \n",
       "88329                       Never   \n",
       "\n",
       "                                              OpenSource  \\\n",
       "5      The quality of OSS and closed source software ...   \n",
       "8      The quality of OSS and closed source software ...   \n",
       "...                                                  ...   \n",
       "88326  The quality of OSS and closed source software ...   \n",
       "88329  OSS is, on average, of LOWER quality than prop...   \n",
       "\n",
       "                  ...                            Sexuality  \\\n",
       "5                 ...              Straight / Heterosexual   \n",
       "8                 ...                             Bisexual   \n",
       "...               ...                                  ...   \n",
       "88326             ...              Straight / Heterosexual   \n",
       "88329             ...              Straight / Heterosexual   \n",
       "\n",
       "                          Ethnicity Dependents           SurveyLength  \\\n",
       "5                        East Asian         No               Too long   \n",
       "8      White or of European descent         No  Appropriate in length   \n",
       "...                             ...        ...                    ...   \n",
       "88326  White or of European descent         No  Appropriate in length   \n",
       "88329  White or of European descent        Yes               Too long   \n",
       "\n",
       "                       SurveyEase  \n",
       "5      Neither easy nor difficult  \n",
       "8      Neither easy nor difficult  \n",
       "...                           ...  \n",
       "88326                        Easy  \n",
       "88329                        Easy  \n",
       "\n",
       "[20541 rows x 85 columns]"
      ]
     },
     "execution_count": 20,
     "metadata": {},
     "output_type": "execute_result"
    }
   ],
   "source": [
    "# filter people who earn a salary more than a specific value\n",
    "# we can check in schema_df to find the salary column name , in this case it is ConvertedComp\n",
    "\n",
    "high_salary = df['ConvertedComp'] > 75000    # this will give series of boolean results\n",
    "\n",
    "df.loc[high_salary]\n",
    "\n",
    "# this will display the people with salary more than 75000"
   ]
  },
  {
   "cell_type": "code",
   "execution_count": 22,
   "metadata": {},
   "outputs": [
    {
     "name": "stderr",
     "output_type": "stream",
     "text": [
      "C:\\Program Files (x86)\\Microsoft Visual Studio\\Shared\\Anaconda3_64\\lib\\site-packages\\pandas\\core\\indexing.py:1472: FutureWarning: \n",
      "Passing list-likes to .loc or [] with any missing label will raise\n",
      "KeyError in the future, you can use .reindex() as an alternative.\n",
      "\n",
      "See the documentation here:\n",
      "https://pandas.pydata.org/pandas-docs/stable/indexing.html#deprecate-loc-reindex-listlike\n",
      "  return self._getitem_tuple(key)\n"
     ]
    },
    {
     "data": {
      "text/html": [
       "<div>\n",
       "<style scoped>\n",
       "    .dataframe tbody tr th:only-of-type {\n",
       "        vertical-align: middle;\n",
       "    }\n",
       "\n",
       "    .dataframe tbody tr th {\n",
       "        vertical-align: top;\n",
       "    }\n",
       "\n",
       "    .dataframe thead th {\n",
       "        text-align: right;\n",
       "    }\n",
       "</style>\n",
       "<table border=\"1\" class=\"dataframe\">\n",
       "  <thead>\n",
       "    <tr style=\"text-align: right;\">\n",
       "      <th></th>\n",
       "      <th>Country</th>\n",
       "      <th>LanguagesWorkedWith</th>\n",
       "      <th>ConvertedComp</th>\n",
       "    </tr>\n",
       "  </thead>\n",
       "  <tbody>\n",
       "    <tr>\n",
       "      <th>5</th>\n",
       "      <td>Canada</td>\n",
       "      <td>NaN</td>\n",
       "      <td>366420.0</td>\n",
       "    </tr>\n",
       "    <tr>\n",
       "      <th>8</th>\n",
       "      <td>New Zealand</td>\n",
       "      <td>NaN</td>\n",
       "      <td>95179.0</td>\n",
       "    </tr>\n",
       "    <tr>\n",
       "      <th>...</th>\n",
       "      <td>...</td>\n",
       "      <td>...</td>\n",
       "      <td>...</td>\n",
       "    </tr>\n",
       "    <tr>\n",
       "      <th>88326</th>\n",
       "      <td>Finland</td>\n",
       "      <td>NaN</td>\n",
       "      <td>82488.0</td>\n",
       "    </tr>\n",
       "    <tr>\n",
       "      <th>88329</th>\n",
       "      <td>Netherlands</td>\n",
       "      <td>NaN</td>\n",
       "      <td>588012.0</td>\n",
       "    </tr>\n",
       "  </tbody>\n",
       "</table>\n",
       "<p>20541 rows × 3 columns</p>\n",
       "</div>"
      ],
      "text/plain": [
       "           Country  LanguagesWorkedWith  ConvertedComp\n",
       "5           Canada                  NaN       366420.0\n",
       "8      New Zealand                  NaN        95179.0\n",
       "...            ...                  ...            ...\n",
       "88326      Finland                  NaN        82488.0\n",
       "88329  Netherlands                  NaN       588012.0\n",
       "\n",
       "[20541 rows x 3 columns]"
      ]
     },
     "execution_count": 22,
     "metadata": {},
     "output_type": "execute_result"
    }
   ],
   "source": [
    "# to grab only specific columns\n",
    "\n",
    "df.loc[high_salary, ['Country','LanguagesWorkedWith','ConvertedComp']]"
   ]
  },
  {
   "cell_type": "code",
   "execution_count": 25,
   "metadata": {},
   "outputs": [],
   "source": [
    "# filter survey results to filter specific countries\n",
    "# we can create a list of those countries \n",
    "\n",
    "countries = ['United States', 'India', 'United Kingdom', 'Germany', 'Canada']\n",
    "filt = df['Country'].isin(countries)"
   ]
  },
  {
   "cell_type": "code",
   "execution_count": 30,
   "metadata": {},
   "outputs": [
    {
     "data": {
      "text/plain": [
       "0        United Kingdom\n",
       "3         United States\n",
       "              ...      \n",
       "88877     United States\n",
       "88878            Canada\n",
       "Name: Country, Length: 45008, dtype: object"
      ]
     },
     "execution_count": 30,
     "metadata": {},
     "output_type": "execute_result"
    }
   ],
   "source": [
    "# now displaying only those countries in the list\n",
    "\n",
    "df.loc[filt,'Country']"
   ]
  },
  {
   "cell_type": "code",
   "execution_count": 32,
   "metadata": {},
   "outputs": [
    {
     "data": {
      "text/plain": [
       "United States     20949\n",
       "India              9061\n",
       "Germany            5866\n",
       "United Kingdom     5737\n",
       "Canada             3395\n",
       "Name: Country, dtype: int64"
      ]
     },
     "execution_count": 32,
     "metadata": {},
     "output_type": "execute_result"
    }
   ],
   "source": [
    "# to display the counts of individual countries\n",
    "\n",
    "df.loc[filt,'Country'].value_counts()"
   ]
  },
  {
   "cell_type": "code",
   "execution_count": 33,
   "metadata": {},
   "outputs": [
    {
     "data": {
      "text/plain": [
       "0                          HTML/CSS;Java;JavaScript;Python\n",
       "1                                      C++;HTML/CSS;Python\n",
       "                               ...                        \n",
       "88881                                                  NaN\n",
       "88882    Bash/Shell/PowerShell;HTML/CSS;Java;JavaScript...\n",
       "Name: LanguageWorkedWith, Length: 88883, dtype: object"
      ]
     },
     "execution_count": 33,
     "metadata": {},
     "output_type": "execute_result"
    }
   ],
   "source": [
    "# we can use string methods to filter our dataframe\n",
    "\n",
    "# to identify people who worked in Python language, here LanguageWorkedWith is the column \n",
    "\n",
    "df['LanguageWorkedWith']\n",
    "\n",
    "# here this column has data with ; as seperator , so we can use str method to find a specific value"
   ]
  },
  {
   "cell_type": "code",
   "execution_count": 36,
   "metadata": {},
   "outputs": [
    {
     "data": {
      "text/plain": [
       "0         True\n",
       "1         True\n",
       "         ...  \n",
       "88881    False\n",
       "88882    False\n",
       "Name: LanguageWorkedWith, Length: 88883, dtype: bool"
      ]
     },
     "execution_count": 36,
     "metadata": {},
     "output_type": "execute_result"
    }
   ],
   "source": [
    "# using str method\n",
    "\n",
    "df['LanguageWorkedWith'].str.contains('Python', na=False)   # na=False to leave out NAN(not a number) values\n",
    "\n",
    "# this will give a series of boolean values"
   ]
  },
  {
   "cell_type": "code",
   "execution_count": 37,
   "metadata": {},
   "outputs": [],
   "source": [
    "# so assign it to a variable\n",
    "\n",
    "filt = df['LanguageWorkedWith'].str.contains('Python', na=False)"
   ]
  },
  {
   "cell_type": "code",
   "execution_count": 38,
   "metadata": {},
   "outputs": [
    {
     "data": {
      "text/plain": [
       "0                 HTML/CSS;Java;JavaScript;Python\n",
       "1                             C++;HTML/CSS;Python\n",
       "                           ...                   \n",
       "88872    C;C++;HTML/CSS;JavaScript;PHP;Python;SQL\n",
       "88876                  HTML/CSS;JavaScript;Python\n",
       "Name: LanguageWorkedWith, Length: 36443, dtype: object"
      ]
     },
     "execution_count": 38,
     "metadata": {},
     "output_type": "execute_result"
    }
   ],
   "source": [
    "df.loc[filt,'LanguageWorkedWith']"
   ]
  },
  {
   "cell_type": "code",
   "execution_count": null,
   "metadata": {},
   "outputs": [],
   "source": [
    "df['LanguageWorkedWith']"
   ]
  }
 ],
 "metadata": {
  "kernelspec": {
   "display_name": "Python 3",
   "language": "python",
   "name": "python3"
  },
  "language_info": {
   "codemirror_mode": {
    "name": "ipython",
    "version": 3
   },
   "file_extension": ".py",
   "mimetype": "text/x-python",
   "name": "python",
   "nbconvert_exporter": "python",
   "pygments_lexer": "ipython3",
   "version": "3.6.5"
  }
 },
 "nbformat": 4,
 "nbformat_minor": 2
}
