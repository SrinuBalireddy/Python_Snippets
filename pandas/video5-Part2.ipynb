{
 "cells": [
  {
   "cell_type": "code",
   "execution_count": 3,
   "metadata": {},
   "outputs": [
    {
     "data": {
      "text/html": [
       "<div>\n",
       "<style scoped>\n",
       "    .dataframe tbody tr th:only-of-type {\n",
       "        vertical-align: middle;\n",
       "    }\n",
       "\n",
       "    .dataframe tbody tr th {\n",
       "        vertical-align: top;\n",
       "    }\n",
       "\n",
       "    .dataframe thead th {\n",
       "        text-align: right;\n",
       "    }\n",
       "</style>\n",
       "<table border=\"1\" class=\"dataframe\">\n",
       "  <thead>\n",
       "    <tr style=\"text-align: right;\">\n",
       "      <th></th>\n",
       "      <th>first</th>\n",
       "      <th>last</th>\n",
       "      <th>email</th>\n",
       "    </tr>\n",
       "  </thead>\n",
       "  <tbody>\n",
       "    <tr>\n",
       "      <th>0</th>\n",
       "      <td>srinu</td>\n",
       "      <td>balireddy</td>\n",
       "      <td>abc@abc.com</td>\n",
       "    </tr>\n",
       "    <tr>\n",
       "      <th>1</th>\n",
       "      <td>sow</td>\n",
       "      <td>yalla</td>\n",
       "      <td>kbc@kbc.com</td>\n",
       "    </tr>\n",
       "    <tr>\n",
       "      <th>2</th>\n",
       "      <td>abc</td>\n",
       "      <td>abc</td>\n",
       "      <td>abc@abc.com</td>\n",
       "    </tr>\n",
       "  </tbody>\n",
       "</table>\n",
       "</div>"
      ],
      "text/plain": [
       "   first       last        email\n",
       "0  srinu  balireddy  abc@abc.com\n",
       "1    sow      yalla  kbc@kbc.com\n",
       "2    abc        abc  abc@abc.com"
      ]
     },
     "execution_count": 3,
     "metadata": {},
     "output_type": "execute_result"
    }
   ],
   "source": [
    "# continution for video5 part1\n",
    "\n",
    "# pasting the previous video people dictionary data\n",
    "\n",
    "people = {\n",
    "    \"first\": ['srinu','sow','abc'],\n",
    "    \"last\" : ['balireddy','yalla','abc'],\n",
    "    \"email\": ['abc@abc.com','kbc@kbc.com','abc@abc.com']\n",
    "}\n",
    "\n",
    "import pandas as pd\n",
    "df = pd.DataFrame(people)\n",
    "df\n",
    "\n",
    "# there are 4 popular methods to update data in pandas\n",
    "\n",
    "# apply\n",
    "# map\n",
    "# applymap\n",
    "# replace"
   ]
  },
  {
   "cell_type": "code",
   "execution_count": 4,
   "metadata": {},
   "outputs": [
    {
     "data": {
      "text/plain": [
       "0    11\n",
       "1    11\n",
       "2    11\n",
       "Name: email, dtype: int64"
      ]
     },
     "execution_count": 4,
     "metadata": {},
     "output_type": "execute_result"
    }
   ],
   "source": [
    "# apply method\n",
    "\n",
    "\"\"\"\n",
    "it is used for calling a function on our values and apply can work on either \n",
    "a df or a series object. The behaviour might be different for each of those\n",
    "different objects.\n",
    "\"\"\"\n",
    "\n",
    "# lets look how apply works on a series.\n",
    "# it can apply a function to every value in our series.\n",
    "# lets say we want to see the length of all our email addresses.\n",
    "\n",
    "df['email'].apply(len)\n",
    "\n",
    "# the result says, first rows email id len is 11 and so on and so forth\n"
   ]
  },
  {
   "cell_type": "code",
   "execution_count": 5,
   "metadata": {},
   "outputs": [
    {
     "data": {
      "text/plain": [
       "0    ABC@ABC.COM\n",
       "1    KBC@KBC.COM\n",
       "2    ABC@ABC.COM\n",
       "Name: email, dtype: object"
      ]
     },
     "execution_count": 5,
     "metadata": {},
     "output_type": "execute_result"
    }
   ],
   "source": [
    "# updating the values using apply method\n",
    "# for this first create a quick function that takes a str input and make it uppercase\n",
    "# a fucntion can be as complicated as it gets\n",
    "\n",
    "def update_email(email):    # very basic function\n",
    "    return email.upper()\n",
    "\n",
    "\n",
    "df['email'].apply(update_email)   # ensure we are not putting () on the function\n",
    "                                  # this is to ensure we are passing in the function itself \n",
    "                                  # and not the executed version of the function\n"
   ]
  },
  {
   "cell_type": "code",
   "execution_count": 7,
   "metadata": {},
   "outputs": [
    {
     "data": {
      "text/html": [
       "<div>\n",
       "<style scoped>\n",
       "    .dataframe tbody tr th:only-of-type {\n",
       "        vertical-align: middle;\n",
       "    }\n",
       "\n",
       "    .dataframe tbody tr th {\n",
       "        vertical-align: top;\n",
       "    }\n",
       "\n",
       "    .dataframe thead th {\n",
       "        text-align: right;\n",
       "    }\n",
       "</style>\n",
       "<table border=\"1\" class=\"dataframe\">\n",
       "  <thead>\n",
       "    <tr style=\"text-align: right;\">\n",
       "      <th></th>\n",
       "      <th>first</th>\n",
       "      <th>last</th>\n",
       "      <th>email</th>\n",
       "    </tr>\n",
       "  </thead>\n",
       "  <tbody>\n",
       "    <tr>\n",
       "      <th>0</th>\n",
       "      <td>srinu</td>\n",
       "      <td>balireddy</td>\n",
       "      <td>ABC@ABC.COM</td>\n",
       "    </tr>\n",
       "    <tr>\n",
       "      <th>1</th>\n",
       "      <td>sow</td>\n",
       "      <td>yalla</td>\n",
       "      <td>KBC@KBC.COM</td>\n",
       "    </tr>\n",
       "    <tr>\n",
       "      <th>2</th>\n",
       "      <td>abc</td>\n",
       "      <td>abc</td>\n",
       "      <td>ABC@ABC.COM</td>\n",
       "    </tr>\n",
       "  </tbody>\n",
       "</table>\n",
       "</div>"
      ],
      "text/plain": [
       "   first       last        email\n",
       "0  srinu  balireddy  ABC@ABC.COM\n",
       "1    sow      yalla  KBC@KBC.COM\n",
       "2    abc        abc  ABC@ABC.COM"
      ]
     },
     "execution_count": 7,
     "metadata": {},
     "output_type": "execute_result"
    }
   ],
   "source": [
    "# the above just give the series object as a result and \n",
    "# won't make the changes to the df.\n",
    "# to apply changes to df, we can assign that to our column\n",
    "\n",
    "df['email'] = df['email'].apply(update_email)\n",
    "df"
   ]
  },
  {
   "cell_type": "code",
   "execution_count": 8,
   "metadata": {},
   "outputs": [
    {
     "data": {
      "text/html": [
       "<div>\n",
       "<style scoped>\n",
       "    .dataframe tbody tr th:only-of-type {\n",
       "        vertical-align: middle;\n",
       "    }\n",
       "\n",
       "    .dataframe tbody tr th {\n",
       "        vertical-align: top;\n",
       "    }\n",
       "\n",
       "    .dataframe thead th {\n",
       "        text-align: right;\n",
       "    }\n",
       "</style>\n",
       "<table border=\"1\" class=\"dataframe\">\n",
       "  <thead>\n",
       "    <tr style=\"text-align: right;\">\n",
       "      <th></th>\n",
       "      <th>first</th>\n",
       "      <th>last</th>\n",
       "      <th>email</th>\n",
       "    </tr>\n",
       "  </thead>\n",
       "  <tbody>\n",
       "    <tr>\n",
       "      <th>0</th>\n",
       "      <td>srinu</td>\n",
       "      <td>balireddy</td>\n",
       "      <td>abc@abc.com</td>\n",
       "    </tr>\n",
       "    <tr>\n",
       "      <th>1</th>\n",
       "      <td>sow</td>\n",
       "      <td>yalla</td>\n",
       "      <td>kbc@kbc.com</td>\n",
       "    </tr>\n",
       "    <tr>\n",
       "      <th>2</th>\n",
       "      <td>abc</td>\n",
       "      <td>abc</td>\n",
       "      <td>abc@abc.com</td>\n",
       "    </tr>\n",
       "  </tbody>\n",
       "</table>\n",
       "</div>"
      ],
      "text/plain": [
       "   first       last        email\n",
       "0  srinu  balireddy  abc@abc.com\n",
       "1    sow      yalla  kbc@kbc.com\n",
       "2    abc        abc  abc@abc.com"
      ]
     },
     "execution_count": 8,
     "metadata": {},
     "output_type": "execute_result"
    }
   ],
   "source": [
    "# we can also use lambda function as well\n",
    "\n",
    "df['email']  = df['email'].apply(lambda x:x.lower())\n",
    "df"
   ]
  },
  {
   "cell_type": "code",
   "execution_count": 9,
   "metadata": {},
   "outputs": [
    {
     "data": {
      "text/plain": [
       "first    3\n",
       "last     3\n",
       "email    3\n",
       "dtype: int64"
      ]
     },
     "execution_count": 9,
     "metadata": {},
     "output_type": "execute_result"
    }
   ],
   "source": [
    "# until now we have used apply method on series objects\n",
    "# lets use apply on df now\n",
    "\n",
    "\"\"\"\n",
    "when we used apply() on series, it ran a function on all the values in the series\n",
    "when we use apply() on df, it runs a function on each row and column of that df \n",
    "\"\"\"\n",
    "\n",
    "# example on series\n",
    "\n",
    "df['email'].apply(len)   # this will give the len each emails in the series\n",
    "\n",
    "# apply method on df\n",
    "\n",
    "df.apply(len)\n",
    "\n",
    "# here in the below result it is not applying the function to the every value in the df\n",
    "# it's actually length function to each series in the df specifically the columns\n",
    "# it is basically telling us that first name column has length 3 ( 3 values). no.of rows in each column"
   ]
  },
  {
   "cell_type": "code",
   "execution_count": 10,
   "metadata": {},
   "outputs": [
    {
     "data": {
      "text/plain": [
       "3"
      ]
     },
     "execution_count": 10,
     "metadata": {},
     "output_type": "execute_result"
    }
   ],
   "source": [
    "# we can get the same result for the series if we manually check the len of one of these\n",
    "\n",
    "len(df['email'])\n",
    "\n",
    "# the below result is what it is doing when using apply on df\n",
    "# but basically it is doing it for every column"
   ]
  },
  {
   "cell_type": "code",
   "execution_count": 11,
   "metadata": {},
   "outputs": [
    {
     "data": {
      "text/plain": [
       "0    3\n",
       "1    3\n",
       "2    3\n",
       "dtype: int64"
      ]
     },
     "execution_count": 11,
     "metadata": {},
     "output_type": "execute_result"
    }
   ],
   "source": [
    "# we can apply this to columns by changing the axis\n",
    "\n",
    "df.apply(len, axis='columns')\n",
    "\n",
    "# here it is caculating that row 0 has length 3( 3 values)"
   ]
  },
  {
   "cell_type": "code",
   "execution_count": 12,
   "metadata": {},
   "outputs": [
    {
     "data": {
      "text/plain": [
       "first            abc\n",
       "last             abc\n",
       "email    abc@abc.com\n",
       "dtype: object"
      ]
     },
     "execution_count": 12,
     "metadata": {},
     "output_type": "execute_result"
    }
   ],
   "source": [
    "# we can call min and max functions on the series of the df using apply\n",
    "\n",
    "df.apply(pd.Series.min)\n",
    "\n",
    "# here it runs min function on all the columns"
   ]
  },
  {
   "cell_type": "code",
   "execution_count": 13,
   "metadata": {},
   "outputs": [
    {
     "data": {
      "text/plain": [
       "first            abc\n",
       "last             abc\n",
       "email    abc@abc.com\n",
       "dtype: object"
      ]
     },
     "execution_count": 13,
     "metadata": {},
     "output_type": "execute_result"
    }
   ],
   "source": [
    "# we can apply lambda methods as well on df\n",
    "\n",
    "df.apply(lambda x: x.min())"
   ]
  },
  {
   "cell_type": "code",
   "execution_count": 14,
   "metadata": {},
   "outputs": [
    {
     "data": {
      "text/html": [
       "<div>\n",
       "<style scoped>\n",
       "    .dataframe tbody tr th:only-of-type {\n",
       "        vertical-align: middle;\n",
       "    }\n",
       "\n",
       "    .dataframe tbody tr th {\n",
       "        vertical-align: top;\n",
       "    }\n",
       "\n",
       "    .dataframe thead th {\n",
       "        text-align: right;\n",
       "    }\n",
       "</style>\n",
       "<table border=\"1\" class=\"dataframe\">\n",
       "  <thead>\n",
       "    <tr style=\"text-align: right;\">\n",
       "      <th></th>\n",
       "      <th>first</th>\n",
       "      <th>last</th>\n",
       "      <th>email</th>\n",
       "    </tr>\n",
       "  </thead>\n",
       "  <tbody>\n",
       "    <tr>\n",
       "      <th>0</th>\n",
       "      <td>5</td>\n",
       "      <td>9</td>\n",
       "      <td>11</td>\n",
       "    </tr>\n",
       "    <tr>\n",
       "      <th>1</th>\n",
       "      <td>3</td>\n",
       "      <td>5</td>\n",
       "      <td>11</td>\n",
       "    </tr>\n",
       "    <tr>\n",
       "      <th>2</th>\n",
       "      <td>3</td>\n",
       "      <td>3</td>\n",
       "      <td>11</td>\n",
       "    </tr>\n",
       "  </tbody>\n",
       "</table>\n",
       "</div>"
      ],
      "text/plain": [
       "   first  last  email\n",
       "0      5     9     11\n",
       "1      3     5     11\n",
       "2      3     3     11"
      ]
     },
     "execution_count": 14,
     "metadata": {},
     "output_type": "execute_result"
    }
   ],
   "source": [
    "\"\"\"\n",
    "################ APPLY MAP #########################\n",
    "\"\"\"\n",
    "\n",
    "# running apply on a series applies the function to every value of the series\n",
    "# running apply on a df, applies the function to every series in the df\n",
    "\n",
    "# to apply function to every individual value  in the df, we use APPLYMAP\n",
    "\n",
    "# APPLYMAP ONLY WORKS ON DF'S ONLY AND SERIES OBJECTS DON'T HAVE THE APPLYMAP METHOD\n",
    "\n",
    "df.applymap(len)\n",
    "\n",
    "# here it applies len function to each and individual values of the df"
   ]
  },
  {
   "cell_type": "code",
   "execution_count": 29,
   "metadata": {},
   "outputs": [
    {
     "data": {
      "text/html": [
       "<div>\n",
       "<style scoped>\n",
       "    .dataframe tbody tr th:only-of-type {\n",
       "        vertical-align: middle;\n",
       "    }\n",
       "\n",
       "    .dataframe tbody tr th {\n",
       "        vertical-align: top;\n",
       "    }\n",
       "\n",
       "    .dataframe thead th {\n",
       "        text-align: right;\n",
       "    }\n",
       "</style>\n",
       "<table border=\"1\" class=\"dataframe\">\n",
       "  <thead>\n",
       "    <tr style=\"text-align: right;\">\n",
       "      <th></th>\n",
       "      <th>first</th>\n",
       "      <th>last</th>\n",
       "      <th>email</th>\n",
       "    </tr>\n",
       "  </thead>\n",
       "  <tbody>\n",
       "    <tr>\n",
       "      <th>0</th>\n",
       "      <td>srinu</td>\n",
       "      <td>balireddy</td>\n",
       "      <td>abc@abc.com</td>\n",
       "    </tr>\n",
       "    <tr>\n",
       "      <th>1</th>\n",
       "      <td>sow</td>\n",
       "      <td>yalla</td>\n",
       "      <td>kbc@kbc.com</td>\n",
       "    </tr>\n",
       "    <tr>\n",
       "      <th>2</th>\n",
       "      <td>abc</td>\n",
       "      <td>abc</td>\n",
       "      <td>abc@abc.com</td>\n",
       "    </tr>\n",
       "  </tbody>\n",
       "</table>\n",
       "</div>"
      ],
      "text/plain": [
       "   first       last        email\n",
       "0  srinu  balireddy  abc@abc.com\n",
       "1    sow      yalla  kbc@kbc.com\n",
       "2    abc        abc  abc@abc.com"
      ]
     },
     "execution_count": 29,
     "metadata": {},
     "output_type": "execute_result"
    }
   ],
   "source": [
    "# to make every value in the df as lower case\n",
    "\n",
    "df.applymap(str.lower)    # as lower doesn't have any arguments here, we use that as an attribute\n",
    "\n",
    "\n",
    "# here if the df has numeric values it will throw an error.\n",
    "# for handling such scenarios we have to write custom function"
   ]
  },
  {
   "cell_type": "code",
   "execution_count": 30,
   "metadata": {},
   "outputs": [
    {
     "data": {
      "text/plain": [
       "0    srinu\n",
       "1      Sow\n",
       "2      NaN\n",
       "Name: first, dtype: object"
      ]
     },
     "execution_count": 30,
     "metadata": {},
     "output_type": "execute_result"
    }
   ],
   "source": [
    "\"\"\"\n",
    "###################### MAP ###########################\n",
    "\"\"\"\n",
    "\n",
    "# if we want to substitue some values in our df, we can use MAP method\n",
    "# map accepts a dictionary of values we want to change\n",
    "\n",
    "df['first'].map({'srinu': 'srinu','sow':'Sow'})\n"
   ]
  },
  {
   "cell_type": "code",
   "execution_count": 31,
   "metadata": {},
   "outputs": [
    {
     "data": {
      "text/plain": [
       "0    SRinu\n",
       "1      sow\n",
       "2      abc\n",
       "Name: first, dtype: object"
      ]
     },
     "execution_count": 31,
     "metadata": {},
     "output_type": "execute_result"
    }
   ],
   "source": [
    "\"\"\"\n",
    "###################### REPLACE ###########################\n",
    "\"\"\"\n",
    "\n",
    "# in the above result the third value became NaN as only two values are passed to the map\n",
    "# TO AVOID THAT WE WILL CAN USE REPLACE METHOD\n",
    "\n",
    "df['first'].replace({'srinu': 'SRinu'})"
   ]
  },
  {
   "cell_type": "code",
   "execution_count": 52,
   "metadata": {},
   "outputs": [],
   "source": [
    "# now lets go back to stackover flow dataset and manipulate the data using pandas.\n",
    "# just consolidate the csv file reading code \n",
    "\n",
    "\n",
    "import pandas as pd\n",
    "\n",
    "df        = pd.read_csv('data/survey_results_public.csv')\n",
    "schema_df = pd.read_csv('data/survey_results_schema.csv')\n",
    "\n",
    "pd.set_option('display.max_columns', 85)\n",
    "pd.set_option('display.max_rows', 5)"
   ]
  },
  {
   "cell_type": "code",
   "execution_count": 45,
   "metadata": {},
   "outputs": [],
   "source": [
    "# if we want to rename the convertedcomp column to a salaryusd in the df\n",
    "\n",
    "df.rename(columns={'ConvertedComp':'SalaryUSD'}, inplace=True)"
   ]
  },
  {
   "cell_type": "code",
   "execution_count": 46,
   "metadata": {},
   "outputs": [
    {
     "data": {
      "text/plain": [
       "0       NaN\n",
       "         ..\n",
       "88882   NaN\n",
       "Name: SalaryUSD, Length: 88883, dtype: float64"
      ]
     },
     "execution_count": 46,
     "metadata": {},
     "output_type": "execute_result"
    }
   ],
   "source": [
    "df['SalaryUSD']"
   ]
  },
  {
   "cell_type": "code",
   "execution_count": 53,
   "metadata": {},
   "outputs": [
    {
     "data": {
      "text/plain": [
       "0         True\n",
       "1        False\n",
       "         ...  \n",
       "88881    False\n",
       "88882     True\n",
       "Name: Hobbyist, Length: 88883, dtype: bool"
      ]
     },
     "execution_count": 53,
     "metadata": {},
     "output_type": "execute_result"
    }
   ],
   "source": [
    "# to change the hobbyist values from YES/NO to True/False\n",
    "\n",
    "df['Hobbyist'] = df['Hobbyist'].map({'Yes':True,'No':False})\n",
    "\n",
    "df['Hobbyist']\n",
    "\n",
    "# remember when we use map and pass in values, anything outside of those values will result in NaN"
   ]
  },
  {
   "cell_type": "code",
   "execution_count": null,
   "metadata": {},
   "outputs": [],
   "source": []
  }
 ],
 "metadata": {
  "kernelspec": {
   "display_name": "Python 3",
   "language": "python",
   "name": "python3"
  },
  "language_info": {
   "codemirror_mode": {
    "name": "ipython",
    "version": 3
   },
   "file_extension": ".py",
   "mimetype": "text/x-python",
   "name": "python",
   "nbconvert_exporter": "python",
   "pygments_lexer": "ipython3",
   "version": "3.6.5"
  }
 },
 "nbformat": 4,
 "nbformat_minor": 2
}
