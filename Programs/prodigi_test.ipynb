{
 "cells": [
  {
   "cell_type": "code",
   "execution_count": 1,
   "metadata": {},
   "outputs": [],
   "source": [
    "from fastapi import FastAPI\n",
    "from pydantic import BaseModel\n",
    "from PIL import Image as Image\n",
    "from io import BytesIO\n",
    "import requests\n",
    "\n",
    "app = FastAPI()\n",
    "\n",
    "class Image(BaseModel):\n",
    "    image_url: str\n",
    "\n",
    "\"\"\"    \n",
    "@app.get('/')\n",
    "def index():\n",
    "    return {'key':'value'}\n",
    "\"\"\"\n",
    "\n",
    "@app.post('/image')\n",
    "def get_color(image_url: Image):\n",
    "    data = dict(image_url)\n",
    "    imgRequest = requests.get(data['image_url'])\n",
    "    img = Image.open(BytesIO(imgRequest.content))\n",
    "    colors = img.getpixel((320, 240))\n",
    "    return colors\n",
    "    # return imgRequest.text[:20]\n"
   ]
  },
  {
   "cell_type": "code",
   "execution_count": null,
   "metadata": {},
   "outputs": [],
   "source": []
  }
 ],
 "metadata": {
  "kernelspec": {
   "display_name": "Python 3",
   "language": "python",
   "name": "python3"
  },
  "language_info": {
   "codemirror_mode": {
    "name": "ipython",
    "version": 3
   },
   "file_extension": ".py",
   "mimetype": "text/x-python",
   "name": "python",
   "nbconvert_exporter": "python",
   "pygments_lexer": "ipython3",
   "version": "3.6.5"
  }
 },
 "nbformat": 4,
 "nbformat_minor": 2
}
