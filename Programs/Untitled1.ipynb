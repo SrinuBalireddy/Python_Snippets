{
 "cells": [
  {
   "cell_type": "code",
   "execution_count": 1,
   "metadata": {},
   "outputs": [],
   "source": [
    "import cv2\n",
    "import requests\n",
    "\n"
   ]
  },
  {
   "cell_type": "code",
   "execution_count": null,
   "metadata": {},
   "outputs": [],
   "source": [
    "\"\"\"\n",
    "img = cv2.imread(\"https://pwintyimages.blob.core.windows.net/samples/stars/test-sample-black.png\", 1)\n",
    "cv2.imshow('image', img)\n",
    "cv2.waitkey(0)\n",
    "cv2.destroyAllWindows()\n",
    "\"\"\"\n",
    "#cv2.split(img)"
   ]
  },
  {
   "cell_type": "code",
   "execution_count": 13,
   "metadata": {},
   "outputs": [
    {
     "name": "stdout",
     "output_type": "stream",
     "text": [
      "255 255 255\n"
     ]
    },
    {
     "data": {
      "text/plain": [
       "'\\ncap = cv2.resize(cap, (340,480))\\nfor x in range (0,340,1):\\n    for y in range(0,480,1):\\n        color = cap[y,x]\\n        print(color)\\n'"
      ]
     },
     "execution_count": 13,
     "metadata": {},
     "output_type": "execute_result"
    }
   ],
   "source": [
    "import cv2\n",
    "\n",
    "cap = cv2.imread(\"test-sample-black.png\")\n",
    "b,g,r = cap[300,300]\n",
    "print(b,g,r)\n",
    "\n",
    "\"\"\"\n",
    "cap = cv2.resize(cap, (340,480))\n",
    "for x in range (0,340,1):\n",
    "    for y in range(0,480,1):\n",
    "        color = cap[y,x]\n",
    "        print(color)\n",
    "\"\"\""
   ]
  },
  {
   "cell_type": "code",
   "execution_count": 1,
   "metadata": {},
   "outputs": [
    {
     "name": "stdout",
     "output_type": "stream",
     "text": [
      "(36, 36, 36)\n"
     ]
    }
   ],
   "source": [
    "from PIL import Image as Image\n",
    "\n",
    "img = Image.open(\"test-sample-black.png\")\n",
    "colors = img.getpixel((320,240))\n",
    "\n",
    "print(colors)"
   ]
  },
  {
   "cell_type": "code",
   "execution_count": 13,
   "metadata": {},
   "outputs": [
    {
     "name": "stdout",
     "output_type": "stream",
     "text": [
      "(56, 70, 87)\n"
     ]
    }
   ],
   "source": [
    "from PIL import Image as Image\n",
    "import requests\n",
    "from io import BytesIO\n",
    "\n",
    "imgRequest = requests.get(\"https://pwintyimages.blob.core.windows.net/samples/stars/test-sample-grey.png\")\n",
    "\n",
    "img = Image.open(BytesIO(imgRequest.content))\n",
    "colors = img.getpixel((320,240))\n",
    "print(colors)\n"
   ]
  },
  {
   "cell_type": "code",
   "execution_count": 8,
   "metadata": {},
   "outputs": [
    {
     "data": {
      "text/plain": [
       "'black'"
      ]
     },
     "execution_count": 8,
     "metadata": {},
     "output_type": "execute_result"
    }
   ],
   "source": [
    "import webcolors\n",
    "\n",
    "webcolors.rgb_to_name((0, 0, 0))"
   ]
  },
  {
   "cell_type": "code",
   "execution_count": 19,
   "metadata": {},
   "outputs": [
    {
     "data": {
      "text/plain": [
       "200"
      ]
     },
     "execution_count": 19,
     "metadata": {},
     "output_type": "execute_result"
    }
   ],
   "source": [
    "from PIL import Image as Image\n",
    "import requests\n",
    "from io import BytesIO\n",
    "\n",
    "imgRequest = requests.get(\"https://pwintyimages.blob.core.windows.net/samples/stars/test-sample-grey.png\")\n",
    "imgRequest.status_code\n"
   ]
  },
  {
   "cell_type": "code",
   "execution_count": null,
   "metadata": {},
   "outputs": [],
   "source": []
  }
 ],
 "metadata": {
  "kernelspec": {
   "display_name": "Python 3",
   "language": "python",
   "name": "python3"
  },
  "language_info": {
   "codemirror_mode": {
    "name": "ipython",
    "version": 3
   },
   "file_extension": ".py",
   "mimetype": "text/x-python",
   "name": "python",
   "nbconvert_exporter": "python",
   "pygments_lexer": "ipython3",
   "version": "3.6.5"
  }
 },
 "nbformat": 4,
 "nbformat_minor": 2
}
