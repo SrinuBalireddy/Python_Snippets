{
 "cells": [
  {
   "cell_type": "code",
   "execution_count": 18,
   "metadata": {
    "scrolled": false
   },
   "outputs": [
    {
     "name": "stdout",
     "output_type": "stream",
     "text": [
      "Pick your option( rock/paper/scissors), Type quit to exit the game: paper\n",
      "scissors vs paper...\n",
      "computer Won!\n",
      "Wanna play again?(yes/no)no\n",
      "See you again!!\n"
     ]
    }
   ],
   "source": [
    "# rock paper scissors\n",
    "\n",
    "import random\n",
    "import sys\n",
    "\n",
    "playagain = True\n",
    "\n",
    "while playagain:\n",
    "\n",
    "    # TODO - generate random values amoung rock paper scissors\n",
    "    computer = random.choice(['rock', 'paper', 'scissors'])\n",
    "\n",
    "    # TODO - provide user with the options to pick rock/paper/scissors/quit\n",
    "    user = input(f\"Pick your option( rock/paper/scissors), Type quit to exit the game: \")\n",
    "    \n",
    "    print(f'{computer} vs {user}...')\n",
    "\n",
    "    # TODO - compare the two inputs user vs cpu and declare the winner \n",
    "    if user == 'rock' and computer == 'paper':\n",
    "        print('Computer Won!')\n",
    "    elif user == 'paper' and computer == 'rock':\n",
    "        print('User Won!')\n",
    "    elif user == 'scissors' and computer == 'rock':\n",
    "        print('Computer Won!')\n",
    "    elif user == 'rock' and computer == 'scissors':\n",
    "        print('User Won!')\n",
    "    elif user == 'paper' and computer == 'scissors':\n",
    "        print('computer Won!')\n",
    "    elif user == 'scissors' and computer == 'paper':\n",
    "        print('user Won!')\n",
    "    elif user == 'quit':\n",
    "        print('See you again!!')\n",
    "        sys.exit()\n",
    "\n",
    "    nextgame = input('Wanna play again?(yes/no)')\n",
    "    if nextgame == 'no':\n",
    "        print('See you again!!')\n",
    "        playagain = False\n"
   ]
  },
  {
   "cell_type": "code",
   "execution_count": 1,
   "metadata": {},
   "outputs": [
    {
     "name": "stdout",
     "output_type": "stream",
     "text": [
      "Enter your nameJoe\n",
      "Enter the passwordok\n",
      "Access Granted!\n"
     ]
    }
   ],
   "source": [
    "# Continue\n",
    "while True:\n",
    "    name = input('Enter your name')\n",
    "    if name != 'Joe':\n",
    "        continue\n",
    "    pwd = input('Enter the password')\n",
    "    if pwd == 'ok':\n",
    "        break\n",
    "print('Access Granted!')"
   ]
  },
  {
   "cell_type": "code",
   "execution_count": 4,
   "metadata": {},
   "outputs": [
    {
     "name": "stdout",
     "output_type": "stream",
     "text": [
      "Enter your name\n",
      "Joe\n",
      "Enter the nummber of guests you will have?\n",
      "10\n",
      "Be sure to have enough space for the guests!\n",
      "Done\n"
     ]
    }
   ],
   "source": [
    "# Truthy and Falsy values\n",
    "\n",
    "name = ''\n",
    "\n",
    "while not name:\n",
    "    print('Enter your name')\n",
    "    name = input()\n",
    "\n",
    "print('Enter the nummber of guests you will have?')\n",
    "guestscount = int(input())\n",
    "if guestscount:\n",
    "    print('Be sure to have enough space for the guests!')\n",
    "print('Done')"
   ]
  },
  {
   "cell_type": "code",
   "execution_count": 8,
   "metadata": {},
   "outputs": [
    {
     "name": "stdout",
     "output_type": "stream",
     "text": [
      "0,1,1,2,3,5,8,13,21,34,"
     ]
    }
   ],
   "source": [
    "# fibanocci series\n",
    "\n",
    "a, b = 0, 1\n",
    "\n",
    "for i in range(10):\n",
    "    print(a, end=',')\n",
    "    a, b = b, a+b   "
   ]
  },
  {
   "cell_type": "code",
   "execution_count": 14,
   "metadata": {},
   "outputs": [
    {
     "data": {
      "text/plain": [
       "24"
      ]
     },
     "execution_count": 14,
     "metadata": {},
     "output_type": "execute_result"
    }
   ],
   "source": [
    "# factorial\n",
    "\n",
    "def factorial_func(number):\n",
    "    if number == 1:\n",
    "        return 1\n",
    "    return number*factorial_func(number-1)\n",
    "\n",
    "factorial_func(4)"
   ]
  },
  {
   "cell_type": "code",
   "execution_count": 32,
   "metadata": {},
   "outputs": [
    {
     "data": {
      "text/plain": [
       "'7362 is not a prime'"
      ]
     },
     "execution_count": 32,
     "metadata": {},
     "output_type": "execute_result"
    }
   ],
   "source": [
    "# prime number\n",
    "\n",
    "def check_prime(number):\n",
    "    \n",
    "    for i in range(2,number):\n",
    "        if number%i == 0:\n",
    "            return f'{number} is not a prime'\n",
    "    \n",
    "    return f'{number} is a prime'\n",
    "\n",
    "check_prime(7362)\n",
    "\n"
   ]
  },
  {
   "cell_type": "code",
   "execution_count": 31,
   "metadata": {},
   "outputs": [
    {
     "name": "stderr",
     "output_type": "stream",
     "text": [
      "F"
     ]
    },
    {
     "name": "stdout",
     "output_type": "stream",
     "text": [
      "7362\n"
     ]
    },
    {
     "name": "stderr",
     "output_type": "stream",
     "text": [
      "\n",
      "======================================================================\n",
      "FAIL: test_isprime (__main__.test_checkprime)\n",
      "----------------------------------------------------------------------\n",
      "Traceback (most recent call last):\n",
      "  File \"<ipython-input-31-b24ff59343dc>\", line 15, in test_isprime\n",
      "    self.assertEqual(self.result, self.outcome)\n",
      "AssertionError: '7362 is not a prime' != '7362 is a prime'\n",
      "- 7362 is not a prime\n",
      "?         ----\n",
      "+ 7362 is a prime\n",
      "\n",
      "\n",
      "----------------------------------------------------------------------\n",
      "Ran 1 test in 0.002s\n",
      "\n",
      "FAILED (failures=1)\n"
     ]
    }
   ],
   "source": [
    "import unittest\n",
    "import random\n",
    "\n",
    "class test_checkprime(unittest.TestCase):\n",
    "    \n",
    "    def test_isprime(self):\n",
    "        self.number = random.randint(2,10000)\n",
    "        self.result = check_prime(self.number)\n",
    "        print(self.number)\n",
    "        self.outcome = f'{self.number} is not a prime'\n",
    "        for i in range(2,self.number):\n",
    "            if self.number%i != 0:\n",
    "                self.outcome = f'{self.number} is a prime'\n",
    "            \n",
    "            self.assertEqual(self.result, self.outcome)\n",
    "\n",
    "if __name__ =='__main__':\n",
    "    unittest.main(argv=['ignore-first-parameter'], exit =False)\n",
    "        "
   ]
  },
  {
   "cell_type": "code",
   "execution_count": 35,
   "metadata": {},
   "outputs": [
    {
     "data": {
      "text/plain": [
       "'Not a perfect square'"
      ]
     },
     "execution_count": 35,
     "metadata": {},
     "output_type": "execute_result"
    }
   ],
   "source": [
    "# perfect square\n",
    "\n",
    "def is_sqrt(number):\n",
    "    \n",
    "    res = 1\n",
    "    \n",
    "    if number>0:\n",
    "        while res*res < number:\n",
    "            res += 1\n",
    "        if res*res == number:\n",
    "            return 'Is a perfect sqaure'\n",
    "        else:\n",
    "            return 'Not a perfect square'\n",
    "            \n",
    "is_sqrt(20)"
   ]
  },
  {
   "cell_type": "code",
   "execution_count": null,
   "metadata": {},
   "outputs": [],
   "source": []
  }
 ],
 "metadata": {
  "kernelspec": {
   "display_name": "Python 3",
   "language": "python",
   "name": "python3"
  },
  "language_info": {
   "codemirror_mode": {
    "name": "ipython",
    "version": 3
   },
   "file_extension": ".py",
   "mimetype": "text/x-python",
   "name": "python",
   "nbconvert_exporter": "python",
   "pygments_lexer": "ipython3",
   "version": "3.6.5"
  }
 },
 "nbformat": 4,
 "nbformat_minor": 2
}
