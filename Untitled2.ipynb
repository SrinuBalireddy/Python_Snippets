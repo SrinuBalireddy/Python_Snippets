{
 "cells": [
  {
   "cell_type": "code",
   "execution_count": 27,
   "metadata": {},
   "outputs": [
    {
     "name": "stdout",
     "output_type": "stream",
     "text": [
      "0.549204\n"
     ]
    }
   ],
   "source": [
    "import numpy as np\n",
    "\n",
    "agreegate_shots_made = []\n",
    "\n",
    "for i in range(0, 1000):\n",
    "    shots_made = []\n",
    "    for _ in range(100):\n",
    "        r = np.random.random()\n",
    "        if r <= .7:\n",
    "            shots_made.append(1)\n",
    "        else:\n",
    "            shots_made.append(0)\n",
    "    \n",
    "    if sum(shots_made) >= 70:\n",
    "        agreegate_shots_made.append(1)\n",
    "    else:\n",
    "        agreegate_shots_made.append(0)\n",
    "        \n",
    "print(np.average(agreegate_shots_made))"
   ]
  },
  {
   "cell_type": "code",
   "execution_count": 33,
   "metadata": {},
   "outputs": [
    {
     "data": {
      "text/plain": [
       "0"
      ]
     },
     "execution_count": 33,
     "metadata": {},
     "output_type": "execute_result"
    }
   ],
   "source": [
    "import random\n",
    "\n",
    "random.randrange(2)"
   ]
  },
  {
   "cell_type": "code",
   "execution_count": 68,
   "metadata": {},
   "outputs": [
    {
     "data": {
      "text/plain": [
       "array([[-3.55115729,  2.94468119,  0.87351224,  0.66545861],\n",
       "       [ 1.82063138,  4.54622188,  3.95994135,  2.09360007]])"
      ]
     },
     "execution_count": 68,
     "metadata": {},
     "output_type": "execute_result"
    }
   ],
   "source": [
    "import numpy as np\n",
    "\n",
    "list = [[1,2,3], [2,3,4], [3,4,5]]\n",
    "np.array(list)\n",
    "np.arange(0,10, 2)\n",
    "np.ones((2,2))\n",
    "np.linspace(0,5,10)\n",
    "np.eye(3)\n",
    "np.random.rand(10)\n",
    "np.random.rand(5,5)\n",
    "np.random.randn(3,4)\n",
    "np.random.randint(10)\n",
    "np.random.randint(1,100,20)\n",
    "np.random.normal(2,3 ,size=(2,4))"
   ]
  },
  {
   "cell_type": "code",
   "execution_count": 71,
   "metadata": {},
   "outputs": [
    {
     "data": {
      "text/plain": [
       "array([[ 0,  1,  2,  3,  4],\n",
       "       [ 5,  6,  7,  8,  9],\n",
       "       [10, 11, 12, 13, 14],\n",
       "       [15, 16, 17, 18, 19],\n",
       "       [20, 21, 22, 23, 24]])"
      ]
     },
     "execution_count": 71,
     "metadata": {},
     "output_type": "execute_result"
    }
   ],
   "source": [
    "arr = np.arange(25)\n",
    "arr\n",
    "arr.reshape(5,5)"
   ]
  },
  {
   "cell_type": "code",
   "execution_count": null,
   "metadata": {},
   "outputs": [],
   "source": []
  }
 ],
 "metadata": {
  "kernelspec": {
   "display_name": "Python 3",
   "language": "python",
   "name": "python3"
  },
  "language_info": {
   "codemirror_mode": {
    "name": "ipython",
    "version": 3
   },
   "file_extension": ".py",
   "mimetype": "text/x-python",
   "name": "python",
   "nbconvert_exporter": "python",
   "pygments_lexer": "ipython3",
   "version": "3.6.5"
  }
 },
 "nbformat": 4,
 "nbformat_minor": 2
}
