{
 "cells": [
  {
   "cell_type": "code",
   "execution_count": 16,
   "metadata": {},
   "outputs": [],
   "source": [
    "result = {}\n",
    "result_list =[]\n",
    "\n",
    "def draw():\n",
    "    \"\"\"\n",
    "    lottery draw validation\n",
    "    \"\"\"\n",
    "    import random\n",
    "    \n",
    "    \n",
    "    \n",
    "    for i in range(5):\n",
    "        \n",
    "        label = random.randint(1,100)\n",
    "        \n",
    "        if label in range(1,36):\n",
    "\n",
    "            if label in result:\n",
    "\n",
    "                if result[label] > 2:\n",
    "                    pass                    \n",
    "                else:                    \n",
    "                    result[label]+=1\n",
    "                \n",
    "            else:\n",
    "                result.setdefault(label, 1)\n",
    "        else:\n",
    "            draw()\n",
    "            \n",
    "        if len(result)>5:\n",
    "            break\n",
    "            \n",
    "    \n",
    "    for keys in result:\n",
    "        result_list.append(keys)\n",
    "        \n",
    "    \n",
    "\n",
    "    \n",
    "draw()\n",
    "    \n",
    "\n",
    "    "
   ]
  },
  {
   "cell_type": "code",
   "execution_count": 6,
   "metadata": {},
   "outputs": [
    {
     "data": {
      "text/plain": [
       "41"
      ]
     },
     "execution_count": 6,
     "metadata": {},
     "output_type": "execute_result"
    }
   ],
   "source": [
    "import random\n",
    "\n",
    "random.randint(1,100)"
   ]
  },
  {
   "cell_type": "code",
   "execution_count": 17,
   "metadata": {},
   "outputs": [
    {
     "name": "stdout",
     "output_type": "stream",
     "text": [
      ">>> Today's lottery numbers are: \n",
      "[14, 17, 22, 27, 31, 35]\n"
     ]
    }
   ],
   "source": [
    "import random\n",
    "\n",
    "#Initialise an empty list that will be used to store the 6 lucky numbers!\n",
    "lotteryNumbers = []\n",
    "\n",
    "for i in range (0,6):\n",
    "  number = random.randint(1,50)\n",
    "  #Check if this number has already been picked and ...\n",
    "  while number in lotteryNumbers:\n",
    "    # ... if it has, pick a new number instead \n",
    "    number = random.randint(1,50)\n",
    "  \n",
    "  #Now that we have a unique number, let's append it to our list.\n",
    "  lotteryNumbers.append(number)\n",
    "\n",
    "#Sort the list in ascending order\n",
    "lotteryNumbers.sort()\n",
    "\n",
    "#Display the list on screen:\n",
    "print(\">>> Today's lottery numbers are: \") \n",
    "print(lotteryNumbers)"
   ]
  },
  {
   "cell_type": "code",
   "execution_count": null,
   "metadata": {},
   "outputs": [],
   "source": [
    "def draw():\n",
    "    \n",
    "    import random    \n",
    "    lotteryNums = []\n",
    "    \n",
    "    for i in range(5):\n",
    "        valid= True\n",
    "        label = random.randint(1, 100)\n",
    "        while valid:\n",
    "            \n",
    "             while label in range(1,36):\n",
    "            \n",
    "                if lotteryNums.count(label)> 2:\n",
    "                    label = random.randint(1, 100)  \n",
    "                else:\n",
    "                    lotteryNums.append(label)\n",
    "                    valid = False\n",
    "                  \n",
    "    #lotteryNums.sort()      \n",
    "    return lotteryNums\n",
    "\n",
    "draw()\n",
    "            \n",
    "    "
   ]
  },
  {
   "cell_type": "code",
   "execution_count": 44,
   "metadata": {},
   "outputs": [
    {
     "data": {
      "text/plain": [
       "2"
      ]
     },
     "execution_count": 44,
     "metadata": {},
     "output_type": "execute_result"
    }
   ],
   "source": [
    "my_list = [1,2,4,1,2]\n",
    "\n",
    "my_list.count(1)"
   ]
  },
  {
   "cell_type": "code",
   "execution_count": null,
   "metadata": {},
   "outputs": [],
   "source": []
  },
  {
   "cell_type": "code",
   "execution_count": null,
   "metadata": {},
   "outputs": [],
   "source": []
  }
 ],
 "metadata": {
  "kernelspec": {
   "display_name": "Python 3",
   "language": "python",
   "name": "python3"
  },
  "language_info": {
   "codemirror_mode": {
    "name": "ipython",
    "version": 3
   },
   "file_extension": ".py",
   "mimetype": "text/x-python",
   "name": "python",
   "nbconvert_exporter": "python",
   "pygments_lexer": "ipython3",
   "version": "3.6.5"
  }
 },
 "nbformat": 4,
 "nbformat_minor": 2
}
