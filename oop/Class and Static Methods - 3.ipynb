{
 "cells": [
  {
   "cell_type": "code",
   "execution_count": 2,
   "metadata": {},
   "outputs": [],
   "source": [
    "# Regular Class automatically pass the instance as the first argument and we call that \"Self\"\n",
    "# Class Method automatically pass the Class as the first Argument and we call that \"CLS\"\n",
    "# Static Method don't pass anything automatically and they don't pass instances and or the class\n",
    "\n",
    "# to create a class method, we can use @classmethod decorator \n",
    "# inside the set_raise_amount method below, we are working with the class instead of instance.\n",
    "\n",
    "class Employee:\n",
    "    \n",
    "    no_of_emps = 0\n",
    "    raise_amount = 1.04\n",
    "    \n",
    "    def __init__(self, first, last, pay):\n",
    "        self.first = first\n",
    "        self.last = last\n",
    "        self.pay = pay\n",
    "        \n",
    "        Employee.no_of_emps +=1    # notice Employee. (its not self.)\n",
    "    \n",
    "    def fullname(self):\n",
    "        return self.first+ ' ' +self.last\n",
    "    \n",
    "    # create a  new method to give hike\n",
    "    \n",
    "    def apply_raise(self):\n",
    "        self.pay = int(self.pay * self.raise_amount)\n",
    "        \n",
    "    @classmethod\n",
    "    def set_raise_amount(cls, amount):    # it take first arg as cls\n",
    "        cls.raise_amount = amount\n",
    "         \n",
    "        \n",
    "emp1 = Employee('John','Liver',60000)\n",
    "emp2 = Employee('Mike','Sweater',70000)\n",
    "\n"
   ]
  },
  {
   "cell_type": "code",
   "execution_count": 3,
   "metadata": {},
   "outputs": [
    {
     "name": "stdout",
     "output_type": "stream",
     "text": [
      "1.04\n",
      "1.04\n",
      "1.04\n"
     ]
    }
   ],
   "source": [
    "# lets print out the raise amount before updating the value\n",
    "\n",
    "print(Employee.raise_amount)\n",
    "print(emp1.raise_amount)\n",
    "print(emp2.raise_amount)"
   ]
  },
  {
   "cell_type": "code",
   "execution_count": 4,
   "metadata": {},
   "outputs": [
    {
     "name": "stdout",
     "output_type": "stream",
     "text": [
      "1.05\n",
      "1.05\n",
      "1.05\n"
     ]
    }
   ],
   "source": [
    "# to update the raise_amount value we can call the set_raise_amount method\n",
    "\n",
    "Employee.set_raise_amount(1.05)    # this is same as Employee.raise_amount = 1.05\n",
    "                                   # but we are using the class method here\n",
    "    \n",
    "# we can run the set_raise_amount method from the instance aswell\n",
    "\n",
    "# emp1.set_raise_amount(1.05)   # this will also give the below three line same result\n",
    "                               # but this is hardly used.\n",
    "\n",
    "print(Employee.raise_amount)\n",
    "print(emp1.raise_amount)\n",
    "print(emp2.raise_amount)\n",
    "\n",
    "# all the instances and class instance will have the new value"
   ]
  },
  {
   "cell_type": "code",
   "execution_count": 7,
   "metadata": {},
   "outputs": [
    {
     "data": {
      "text/plain": [
       "'John'"
      ]
     },
     "execution_count": 7,
     "metadata": {},
     "output_type": "execute_result"
    }
   ],
   "source": [
    "\"\"\" class methods can be used as an alternative constructors\"\"\"\n",
    "\n",
    "# we can use these class methods in order to provide multiple ways\n",
    "# of creating our objects\n",
    "\n",
    "# for ex if we have an input string seperated by hypen and everytime we have to parse the string\n",
    "# to get first , last , pay details\n",
    "\n",
    "emp_str1 = 'John-Doe-70000'\n",
    "emp_str2 = 'John1-Doe-70000'\n",
    "emp_str3 = 'John2-Doe-70000'\n",
    "\n",
    "# in order to create a new emp, we have to split the above string and then we can create objects\n",
    "first, last ,pay = emp_str1.split('-')\n",
    "\n",
    "# object creation\n",
    "\n",
    "emp_obj_1 = Employee(first, last, int(pay))   # here we have to convert pay string to int \n",
    "\n",
    "emp_obj_1.first\n",
    "\n",
    "# if this is a common usecase, we have to split the input string multiple times seperately."
   ]
  },
  {
   "cell_type": "code",
   "execution_count": 9,
   "metadata": {},
   "outputs": [
    {
     "data": {
      "text/plain": [
       "'John'"
      ]
     },
     "execution_count": 9,
     "metadata": {},
     "output_type": "execute_result"
    }
   ],
   "source": [
    "# insted lets create an alternate constructor that allows them to pass in a string \n",
    "# and it create the object for them.\n",
    "\n",
    "# we will create a new class method to create an alternative constructor\n",
    "# usually the method name starts with \"from_\" keyword\n",
    "# this will return a new employee object\n",
    "\n",
    "class Employee:\n",
    "    \n",
    "    no_of_emps = 0\n",
    "    raise_amount = 1.04\n",
    "    \n",
    "    def __init__(self, first, last, pay):\n",
    "        self.first = first\n",
    "        self.last = last\n",
    "        self.pay = pay\n",
    "        \n",
    "        Employee.no_of_emps +=1    # notice Employee. (its not self.)\n",
    "    \n",
    "    def fullname(self):\n",
    "        return self.first+ ' ' +self.last\n",
    "    \n",
    "    # create a  new method to give hike\n",
    "    \n",
    "    def apply_raise(self):\n",
    "        self.pay = int(self.pay * self.raise_amount)\n",
    "        \n",
    "    @classmethod\n",
    "    def set_raise_amount(cls, amount):    # it take first arg as cls\n",
    "        cls.raise_amount = amount\n",
    "        \n",
    "    # creating a new class method for alternate constructor\n",
    "    \n",
    "    @classmethod\n",
    "    def from_string(cls, emp_str):                # takes cls as default first argument\n",
    "         first, last , pay = emp_str.split('-')\n",
    "         return cls(first, last, int(pay))        # this is equivalent to Employee(first, last, pay)\n",
    "                                                  # which we have written outside the class in the above cell\n",
    "        \n",
    "emp_str1 = 'John-Doe-70000'\n",
    "emp_str2 = 'John1-Doe-70000'\n",
    "emp_str3 = 'John2-Doe-70000'\n",
    "\n",
    "# Now we can directly send this emp_str to the from_string method and it will do the spliting \n",
    "\n",
    "emp_obj_1 = Employee.from_string(emp_str1)    # note Employee.from_string, it calls the alternate constructor.\n",
    "\n",
    "emp_obj_1.first"
   ]
  },
  {
   "cell_type": "code",
   "execution_count": 15,
   "metadata": {},
   "outputs": [
    {
     "name": "stdout",
     "output_type": "stream",
     "text": [
      "True\n"
     ]
    }
   ],
   "source": [
    "\"\"\" Static methods\"\"\"\n",
    "# to create a static method we use \"@staticmethod\" decorator\n",
    "# Static Method don't pass anything automatically and they don't pass instances and or the class\n",
    "# they are just like regular functions which we use them in our class to have some extra logics\n",
    "\n",
    "# usually a giveaway that a method should be a static method if we don't access the instance\n",
    "# or the class anywhere within the function.\n",
    "# in the below is_weekday static method we don't have either self, cls as first argument.\n",
    "\n",
    "# example case - to check if a day is a weekday or not\n",
    "\n",
    "\n",
    "\n",
    "class Employee:\n",
    "    \n",
    "    no_of_emps = 0\n",
    "    raise_amount = 1.04\n",
    "    \n",
    "    def __init__(self, first, last, pay):\n",
    "        self.first = first\n",
    "        self.last = last\n",
    "        self.pay = pay\n",
    "    \n",
    "    \n",
    "    @staticmethod\n",
    "    def is_weekday(day):\n",
    "        \n",
    "        # in python we have weekday methods where Monday is 0 and sunday is 6\n",
    "        if day.weekday() == 5 or day.weekday() == 6:\n",
    "            return False\n",
    "        return True\n",
    "    \n",
    "        \n",
    "import datetime\n",
    "\n",
    "mydate = datetime.date(2020, 6, 18)\n",
    "\n",
    "print(Employee.is_weekday(mydate))"
   ]
  },
  {
   "cell_type": "code",
   "execution_count": null,
   "metadata": {},
   "outputs": [],
   "source": []
  }
 ],
 "metadata": {
  "kernelspec": {
   "display_name": "Python 3",
   "language": "python",
   "name": "python3"
  },
  "language_info": {
   "codemirror_mode": {
    "name": "ipython",
    "version": 3
   },
   "file_extension": ".py",
   "mimetype": "text/x-python",
   "name": "python",
   "nbconvert_exporter": "python",
   "pygments_lexer": "ipython3",
   "version": "3.6.5"
  }
 },
 "nbformat": 4,
 "nbformat_minor": 2
}
