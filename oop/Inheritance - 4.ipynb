{
 "cells": [
  {
   "cell_type": "code",
   "execution_count": null,
   "metadata": {},
   "outputs": [],
   "source": [
    "\"\"\"\n",
    "1. What is inheritence?\n",
    "It is a method that allows us to create a new class that shares the same attributes and method with the original function, \n",
    "and add some extra functionality to the new class. It also does not disturb the original class.\n",
    "\n",
    "\n",
    "2. How to make a class inherit from another class?\n",
    "class Developer(Employee):\n",
    "\n",
    "\n",
    "3. Structure of classes and subclasses.\n",
    "When we input a function to a subclass, python follows the 'method resolution order', which is the chain of classes that it goes\n",
    "through to find what the method is. All classes have the built-in group of methods and attributes as their primary order.\n",
    "\n",
    "\n",
    "4. How to initiate the subclass so that it can handle more information than its original class can?\n",
    "There are 2 ways.\n",
    "first, using the super method as follows and pass in the arguments in interest.\n",
    "super.__init__()\n",
    "\n",
    "\n",
    "Second, call the parent's init method explicitly and pass in the arguments in interest.\n",
    "Employee.init(self, first, last, )\n",
    "\n",
    "\n",
    "5. Useful tools when exploring the inheritance system.\n",
    ".isinstance(instance, class)\n",
    "This method returns the boolean value of whether an instance belongs to a calss\n",
    ".issubclass(subclass, class)\n",
    "This method returns the boolean value of whether a class has inherited from the second class.\n",
    "\n",
    "\n",
    "6. Example of class inheritance\n",
    "Whisky library \n",
    "\n",
    "++ when setting a default value for an ungiven argument, avoid using an empty mutable data type. \n",
    "That's a topic for another video.\n",
    "\n",
    "\"\"\""
   ]
  },
  {
   "cell_type": "code",
   "execution_count": 7,
   "metadata": {},
   "outputs": [
    {
     "data": {
      "text/plain": [
       "'John Doe'"
      ]
     },
     "execution_count": 7,
     "metadata": {},
     "output_type": "execute_result"
    }
   ],
   "source": [
    "class Employee:\n",
    "    \n",
    "    no_of_emps = 0\n",
    "    raise_amount = 1.04\n",
    "    \n",
    "    def __init__(self, first, last, pay):\n",
    "        self.first = first\n",
    "        self.last = last\n",
    "        self.pay = pay\n",
    "        \n",
    "        Employee.no_of_emps +=1    # notice Employee. (its not self.)\n",
    "    \n",
    "    def fullname(self):\n",
    "        return self.first+ ' ' +self.last\n",
    "    \n",
    "    # create a  new method to give hike\n",
    "    \n",
    "    def apply_raise(self):\n",
    "        self.pay = int(self.pay * self.raise_amount)\n",
    "\n",
    "# now for this employee class , let's say we want to create different kind of employees\n",
    "# like developers, managers -- which can be created as subclasses for main employee class\n",
    "\n",
    "class Developer(Employee):\n",
    "    pass\n",
    "\n",
    "# now the Developer class inherits all the attributes and methods from Employee class\n",
    "\n",
    "dev1 = Developer('John', 'Doe', 50000)\n",
    "dev1.fullname()\n"
   ]
  },
  {
   "cell_type": "code",
   "execution_count": 3,
   "metadata": {},
   "outputs": [
    {
     "name": "stdout",
     "output_type": "stream",
     "text": [
      "Help on Developer in module __main__ object:\n",
      "\n",
      "class Developer(Employee)\n",
      " |  Method resolution order:\n",
      " |      Developer\n",
      " |      Employee\n",
      " |      builtins.object\n",
      " |  \n",
      " |  Methods inherited from Employee:\n",
      " |  \n",
      " |  __init__(self, first, last, pay)\n",
      " |      Initialize self.  See help(type(self)) for accurate signature.\n",
      " |  \n",
      " |  apply_raise(self)\n",
      " |  \n",
      " |  fullname(self)\n",
      " |  \n",
      " |  ----------------------------------------------------------------------\n",
      " |  Data descriptors inherited from Employee:\n",
      " |  \n",
      " |  __dict__\n",
      " |      dictionary for instance variables (if defined)\n",
      " |  \n",
      " |  __weakref__\n",
      " |      list of weak references to the object (if defined)\n",
      " |  \n",
      " |  ----------------------------------------------------------------------\n",
      " |  Data and other attributes inherited from Employee:\n",
      " |  \n",
      " |  no_of_emps = 1\n",
      " |  \n",
      " |  raise_amount = 1.04\n",
      "\n"
     ]
    }
   ],
   "source": [
    "# when we instantiated the developer class it first looked in Developer init method\n",
    "# as it not going to find it, python will walk up this chain of inheritance until it\n",
    "# finds the init method in the inherited classes.\n",
    "\n",
    "# this chain is called the METHOD RESOLUTION ORDER\n",
    "# using help function we can see the METHOD RESOLUTION ORDER\n",
    "\n",
    "help(dev1)\n",
    "\n",
    "# as seen below the developer instance first checks the Developer class , then Employee \n",
    "# and finally builtins.object which is default for all the instances.\n",
    "# we can also see that the dev1 instance has access to all the methods and attributes of Employee class."
   ]
  },
  {
   "cell_type": "code",
   "execution_count": 10,
   "metadata": {},
   "outputs": [
    {
     "name": "stdout",
     "output_type": "stream",
     "text": [
      "52500\n",
      "55125\n",
      " \n",
      "50000\n",
      "52500\n"
     ]
    }
   ],
   "source": [
    "# printing the pay attribute of employee using dev1 instance\n",
    "\n",
    "print(dev1.pay)\n",
    "dev1.apply_raise()\n",
    "print(dev1.pay)\n",
    "print(' ')\n",
    "# the output of above code will be\n",
    "# 50000\n",
    "# 52000\n",
    "\n",
    "# lets update the raise_amount to a new value in the Developer class\n",
    "\n",
    "class Developer(Employee):\n",
    "    raise_amount = 1.05\n",
    "\n",
    "dev1 = Developer('John', 'Doe', 50000)\n",
    "\n",
    "# lets print the pay attribute now\n",
    "\n",
    "print(dev1.pay)\n",
    "dev1.apply_raise()\n",
    "print(dev1.pay)\n",
    "\n",
    "# now this will print the new pay based on the raise amount value in the developer class\n",
    "# also the main Employee class raise_amount will be untouched."
   ]
  },
  {
   "cell_type": "code",
   "execution_count": 11,
   "metadata": {},
   "outputs": [
    {
     "name": "stdout",
     "output_type": "stream",
     "text": [
      "John\n",
      "Python\n"
     ]
    }
   ],
   "source": [
    "# if we want to pass in a new attribute programming language to the Developer class\n",
    "# during object creation, we have to give the Developer class it's own init method\n",
    "\n",
    "class Developer(Employee):\n",
    "    \n",
    "    def __init__(self, first, last, pay, prog_lang):\n",
    "        \n",
    "        # here instead of write self.first = first again, we can use super() method.\n",
    "        \n",
    "        super().__init__(first, last, pay)   # we will let the employee class handle these 3 attributes\n",
    "        \n",
    "        # the other way to do this is by using the Employee class name itself\n",
    "        \n",
    "        # Employee.__init__(self, first, last, pay)    # note the self as first arg here\n",
    "                                                       # this will be used when we have multiple inheritance.\n",
    "            \n",
    "        self.prog_lang = prog_lang\n",
    "\n",
    "# now when we create a new instance for the Developer class we have to pass in prog_lang\n",
    "\n",
    "dev1 = Developer('John', 'Doe', 50000, 'Python')\n",
    "\n",
    "print(dev1.first)\n",
    "print(dev1.prog_lang)\n",
    "        "
   ]
  },
  {
   "cell_type": "code",
   "execution_count": 21,
   "metadata": {},
   "outputs": [],
   "source": [
    "# now lets create an other class Manager which also inherts Employee class\n",
    "\n",
    "class Manager(Employee):\n",
    "    \n",
    "    # will have this Manager takes in an argument for the list of employees they manage\n",
    "    \n",
    "    def __init__(self, first, last, pay, employees = None): \n",
    "        \n",
    "        # refer the below video @10:29 to knnow more about employees = None\n",
    "        # https://www.youtube.com/watch?v=zdJEYhA2AZQ&list=PL-osiE80TeTt2d9bfVyTiXJA-UTHn6WwU&index=108\n",
    "        \n",
    "        # we should never pass in a mutable data types like list or dict as default arguments.\n",
    "        # in python default arguments are evaluated at once at the time it creates the function.\n",
    "        \n",
    "        super().__init__(first, last, pay)\n",
    "        if employees is None:\n",
    "            self.employees = []\n",
    "        else:\n",
    "            self.employees = employees\n",
    "        \n",
    "    def addemployee(self, emp):\n",
    "        if emp not in self.employees:\n",
    "            self.employees.append(emp)\n",
    "        \n",
    "    def removeemployee(self, emp):\n",
    "        if emp in self.employees:\n",
    "            self.employees.remove(emp)\n",
    "            \n",
    "    def printemp(self):\n",
    "        for emp in self.employees:\n",
    "            print('-->'+ emp.fullname())"
   ]
  },
  {
   "cell_type": "code",
   "execution_count": 27,
   "metadata": {},
   "outputs": [
    {
     "name": "stdout",
     "output_type": "stream",
     "text": [
      "Srinu B\n",
      "-->John Doe\n",
      "\n",
      "-->John Doe\n",
      "-->Mike Doe\n",
      "\n",
      "-->Mike Doe\n"
     ]
    }
   ],
   "source": [
    "# lets create a dev1 instance to developer class and pass then dev1 to manager class\n",
    "\n",
    "dev1 = Developer('John', 'Doe', 50000, 'Python')\n",
    "\n",
    "# create object to manager class\n",
    "\n",
    "mgr1 = Manager('Srinu', 'B', 60000, [dev1])\n",
    "\n",
    "# first lets print fullname() to see if it inherits the Employee class\n",
    "\n",
    "print(mgr1.fullname())\n",
    "\n",
    "# let's print the employees managed by mgr1\n",
    "\n",
    "mgr1.printemp()\n",
    "\n",
    "# adding new employee to the manager\n",
    "\n",
    "dev2 = Developer('Mike', 'Doe', 50000, 'Java')\n",
    "\n",
    "print('')\n",
    "\n",
    "mgr1.addemployee(dev2)\n",
    "mgr1.printemp()\n",
    "\n",
    "# remove employee dev1\n",
    "print('')\n",
    "mgr1.removeemployee(dev1)\n",
    "mgr1.printemp()"
   ]
  },
  {
   "cell_type": "code",
   "execution_count": null,
   "metadata": {},
   "outputs": [],
   "source": []
  }
 ],
 "metadata": {
  "kernelspec": {
   "display_name": "Python 3",
   "language": "python",
   "name": "python3"
  },
  "language_info": {
   "codemirror_mode": {
    "name": "ipython",
    "version": 3
   },
   "file_extension": ".py",
   "mimetype": "text/x-python",
   "name": "python",
   "nbconvert_exporter": "python",
   "pygments_lexer": "ipython3",
   "version": "3.6.5"
  }
 },
 "nbformat": 4,
 "nbformat_minor": 2
}
