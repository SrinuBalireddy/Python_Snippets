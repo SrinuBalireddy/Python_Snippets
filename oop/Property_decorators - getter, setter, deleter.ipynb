{
 "cells": [
  {
   "cell_type": "code",
   "execution_count": 1,
   "metadata": {},
   "outputs": [
    {
     "name": "stdout",
     "output_type": "stream",
     "text": [
      "John\n",
      "Liver\n",
      "John.Liver@email.com\n"
     ]
    }
   ],
   "source": [
    "class Employee:\n",
    "    \n",
    "    def __init__(self, first, last, pay):\n",
    "        self.first = first\n",
    "        self.last = last\n",
    "        self.pay = pay\n",
    "        self.email = first+'.'+last+'@email.com'\n",
    "    \n",
    "    def fullname(self):\n",
    "        return self.first+ ' ' +self.last\n",
    "    \n",
    "\n",
    "emp1 = Employee('John','Liver',60000)\n",
    "\n",
    "print(emp1.first)\n",
    "print(emp1.last)\n",
    "print(emp1.email)"
   ]
  },
  {
   "cell_type": "code",
   "execution_count": 3,
   "metadata": {},
   "outputs": [
    {
     "name": "stdout",
     "output_type": "stream",
     "text": [
      "Mike\n",
      "Liver\n",
      "John.Liver@email.com\n",
      "\n",
      "Mike Liver\n"
     ]
    }
   ],
   "source": [
    "# if we try to change the first name and access email it will consider the old value\n",
    "\n",
    "emp1.first = 'Mike'\n",
    "\n",
    "print(emp1.first)\n",
    "print(emp1.last)\n",
    "print(emp1.email)\n",
    "\n",
    "# the email will still print the old first name\n",
    "# but we won't have the same issue with full name\n",
    "\n",
    "print()\n",
    "print(emp1.fullname())\n",
    "\n",
    "# fullname will access the current first and last name as it has self."
   ]
  },
  {
   "cell_type": "code",
   "execution_count": 7,
   "metadata": {},
   "outputs": [
    {
     "name": "stdout",
     "output_type": "stream",
     "text": [
      "Mike\n",
      "Liver\n",
      "Mike.Liver@email.com\n"
     ]
    }
   ],
   "source": [
    "\"\"\" getter method - PROPERTY DECORATOR\"\"\" \n",
    "\n",
    "# we can very well add a new method for the email and have self.first and self.last\n",
    "# but this will create a maintanence problem as we have to change the code from\n",
    "# emp1.email to emp1.email() as now we will have a email method than an attribute\n",
    "\n",
    "# in order to avoid the above maintainance prob , we can use PROPERTY DECORATOR \n",
    "# PROPERTY DECORATOR  will help us to access a method as an attribute\n",
    "\n",
    "class Employee:\n",
    "    \n",
    "    def __init__(self, first, last, pay):\n",
    "        self.first = first\n",
    "        self.last = last\n",
    "        self.pay = pay\n",
    "        #self.email = first+'.'+last+'@email.com'\n",
    "    \n",
    "    def fullname(self):\n",
    "        return self.first+ ' ' +self.last\n",
    "    \n",
    "    # adding email method with PROPERTY DECORATOR \n",
    "    @property\n",
    "    def email(self):\n",
    "        return self.first+'.'+self.last+'@email.com'\n",
    "    \n",
    "    \n",
    "\n",
    "emp1 = Employee('John','Liver',60000)\n",
    "\n",
    "emp1.first = 'Mike'\n",
    "\n",
    "print(emp1.first)\n",
    "print(emp1.last)\n",
    "print(emp1.email)\n",
    "\n",
    "# now our emp1.email prints the updated name and \n",
    "# also we are able to access email method as an attribute"
   ]
  },
  {
   "cell_type": "code",
   "execution_count": 10,
   "metadata": {},
   "outputs": [
    {
     "ename": "SyntaxError",
     "evalue": "can't assign to function call (<ipython-input-10-143bebaed614>, line 7)",
     "output_type": "error",
     "traceback": [
      "\u001b[1;36m  File \u001b[1;32m\"<ipython-input-10-143bebaed614>\"\u001b[1;36m, line \u001b[1;32m7\u001b[0m\n\u001b[1;33m    emp1.fullname() = 'Srinu B'\u001b[0m\n\u001b[1;37m                               ^\u001b[0m\n\u001b[1;31mSyntaxError\u001b[0m\u001b[1;31m:\u001b[0m can't assign to function call\n"
     ]
    }
   ],
   "source": [
    "\"\"\"  setter property\"\"\"\n",
    "\n",
    "# right now our fullname is a method and its return value is based on first and last attributes\n",
    "# we cannot change the fullname or set the fullname directly by saying emp1.fullname = newvalue\n",
    "# or if we want to change the first and last name values by setting fullname.\n",
    "\n",
    "emp1.fullname() = 'Srinu B'\n",
    "print(emp1.first)\n",
    "print(emp1.last)\n",
    "print(emp1.email)\n",
    "\n",
    "# we say emp1.fullname = 'Srinu B' by having @property on the fullname method\n",
    "# but that won't update the first and last name attributes to Srinu and B respectively."
   ]
  },
  {
   "cell_type": "code",
   "execution_count": 13,
   "metadata": {},
   "outputs": [
    {
     "name": "stdout",
     "output_type": "stream",
     "text": [
      "Srinu\n",
      "B\n",
      "Srinu.B@email.com\n"
     ]
    }
   ],
   "source": [
    "# to update first and last name by passing in new value to fullname method,\n",
    "# we can use @setter method\n",
    "\n",
    "# first we have to apply @property decorator on our fullname method\n",
    "# then we have to use @fullname.setter decorator\n",
    "# format is \"name of the method\".setter\n",
    "\n",
    "class Employee:\n",
    "    \n",
    "    def __init__(self, first, last, pay):\n",
    "        self.first = first\n",
    "        self.last = last\n",
    "        self.pay = pay\n",
    "        #self.email = first+'.'+last+'@email.com'\n",
    "        \n",
    "    # adding email method with PROPERTY DECORATOR \n",
    "    @property\n",
    "    def email(self):\n",
    "        return self.first+'.'+self.last+'@email.com'\n",
    "    \n",
    "    @property\n",
    "    def fullname(self):\n",
    "        return self.first+ ' ' +self.last\n",
    "    \n",
    "    @fullname.setter                # this is how we will generate the decorator name\n",
    "    def fullname(self, name):\n",
    "        self.first, self.last = name.split(' ')\n",
    "\n",
    "emp1 = Employee('John','Liver',60000)\n",
    "\n",
    "# now we can set a value to fullname method\n",
    "\n",
    "emp1.fullname = 'Srinu B'\n",
    "\n",
    "print(emp1.first)\n",
    "print(emp1.last)\n",
    "print(emp1.email)        \n",
    "    \n",
    "# now the fullname value will be updated to first and last name"
   ]
  },
  {
   "cell_type": "code",
   "execution_count": 18,
   "metadata": {},
   "outputs": [
    {
     "name": "stdout",
     "output_type": "stream",
     "text": [
      "Srinu\n",
      "B\n",
      "Srinu.B@email.com\n",
      "\n",
      "Fullname Deleted\n",
      "None\n",
      "None\n"
     ]
    }
   ],
   "source": [
    "\"\"\"    deleter decorator\"\"\"\n",
    "\n",
    "# if we want to delete the fullname of the employee\n",
    "# we just have to use a new decorator @fullname.deleter ( it is deleter instead of setter)\n",
    "\n",
    "class Employee:\n",
    "    \n",
    "    def __init__(self, first, last, pay):\n",
    "        self.first = first\n",
    "        self.last = last\n",
    "        self.pay = pay\n",
    "        #self.email = first+'.'+last+'@email.com'\n",
    "        \n",
    "    # adding email method with PROPERTY DECORATOR \n",
    "    @property\n",
    "    def email(self):\n",
    "        return self.first+'.'+self.last+'@email.com'\n",
    "    \n",
    "    @property\n",
    "    def fullname(self):\n",
    "        return self.first+ ' ' +self.last\n",
    "    \n",
    "    @fullname.setter                # here is how we will generate the decorator name\n",
    "    def fullname(self, name):\n",
    "        self.first, self.last = name.split(' ')\n",
    "        \n",
    "    # deleter decorator for fullname\n",
    "    \n",
    "    @fullname.deleter                \n",
    "    def fullname(self):\n",
    "        print('Fullname Deleted')\n",
    "        self.first  = None\n",
    "        self.last = None\n",
    "\n",
    "emp1 = Employee('John','Liver',60000)\n",
    "\n",
    "emp1.fullname = 'Srinu B'\n",
    "print(emp1.first)\n",
    "print(emp1.last)\n",
    "print(emp1.email) \n",
    "\n",
    "# once we delete and try to print , we will get None\n",
    "print()\n",
    "del emp1.fullname\n",
    "\n",
    "print(emp1.first)\n",
    "print(emp1.last)\n",
    "\n",
    "# if we try to print out email it will error out as it cannot convert addition of two None types"
   ]
  },
  {
   "cell_type": "code",
   "execution_count": null,
   "metadata": {},
   "outputs": [],
   "source": []
  }
 ],
 "metadata": {
  "kernelspec": {
   "display_name": "Python 3",
   "language": "python",
   "name": "python3"
  },
  "language_info": {
   "codemirror_mode": {
    "name": "ipython",
    "version": 3
   },
   "file_extension": ".py",
   "mimetype": "text/x-python",
   "name": "python",
   "nbconvert_exporter": "python",
   "pygments_lexer": "ipython3",
   "version": "3.6.5"
  }
 },
 "nbformat": 4,
 "nbformat_minor": 2
}
