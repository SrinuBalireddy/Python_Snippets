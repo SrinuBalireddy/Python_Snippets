{
 "cells": [
  {
   "cell_type": "code",
   "execution_count": 2,
   "metadata": {},
   "outputs": [
    {
     "name": "stdout",
     "output_type": "stream",
     "text": [
      "<__main__.Employee object at 0x0000016D1371A828>\n"
     ]
    }
   ],
   "source": [
    "# these special or magic methods allow us to emulate some built-in behaviour within python\n",
    "# and also how we implement operator overloading\n",
    "\n",
    "# these special methods will allow us to print out a userfriendly output when printing class instances.\n",
    "# by defining our own special methods, we will be able to change some of the built-in behavious or operations.\n",
    "\n",
    "\"\"\" __repr__\"\"\"\n",
    "# repr is meant to be an unambigious representation of the object \n",
    "# and should be used for logging and debugging.\n",
    "# it is really meant to be seen by other developers \n",
    "\n",
    "\"\"\" __str__\"\"\"\n",
    "\n",
    "# str is meant to be a more readble representation of the object \n",
    "# and is used to display to the end-user.\n",
    "\n",
    "class Employee:\n",
    "    \n",
    "    def __init__(self, first, last, pay):\n",
    "        self.first = first\n",
    "        self.last = last\n",
    "        self.pay = pay\n",
    "    \n",
    "    def fullname(self):\n",
    "        return self.first+ ' ' +self.last\n",
    "    \n",
    "\n",
    "emp1 = Employee('John','Liver',60000)\n",
    "\n",
    "# when we printout the emp1 we will get the employee object\n",
    "\n",
    "print(emp1)"
   ]
  },
  {
   "cell_type": "code",
   "execution_count": 3,
   "metadata": {},
   "outputs": [
    {
     "name": "stdout",
     "output_type": "stream",
     "text": [
      "Employee(John, Liver, 60000)\n"
     ]
    }
   ],
   "source": [
    "# it's better to atleast have an __repr__ method bcoz if we have this\n",
    "# with __str__ then calling __str__ will just use the __repr__ as fallback on.\n",
    "# so it's good to have __repr__ mininum.\n",
    "\n",
    "# when creating the repr method , it's better to display something that you can \n",
    "# copy and paste back in python code that would recreate the same object.\n",
    "\n",
    "# let's implement repr in our employee class\n",
    "\n",
    "class Employee:\n",
    "    \n",
    "    def __init__(self, first, last, pay):\n",
    "        self.first = first\n",
    "        self.last = last\n",
    "        self.pay = pay\n",
    "    \n",
    "    def fullname(self):\n",
    "        return self.first+ ' ' +self.last\n",
    "    \n",
    "    def __repr__(self):\n",
    "        return f'Employee({self.first}, {self.last}, {self.pay})'\n",
    "    \n",
    "\n",
    "emp1 = Employee('John','Liver',60000)\n",
    "\n",
    "# let's print the emp1 now\n",
    "print(emp1)\n",
    "\n",
    "# the below will return the python code to the new instance rather than employee object like earlier"
   ]
  },
  {
   "cell_type": "code",
   "execution_count": 4,
   "metadata": {},
   "outputs": [
    {
     "name": "stdout",
     "output_type": "stream",
     "text": [
      "John Liver\n"
     ]
    }
   ],
   "source": [
    "# let's implement str in the employee class now\n",
    "\n",
    "class Employee:\n",
    "    \n",
    "    def __init__(self, first, last, pay):\n",
    "        self.first = first\n",
    "        self.last = last\n",
    "        self.pay = pay\n",
    "    \n",
    "    def fullname(self):\n",
    "        return self.first+ ' ' +self.last\n",
    "    \n",
    "    def __repr__(self):\n",
    "        return f'Employee({self.first}, {self.last}, {self.pay})'\n",
    "    \n",
    "    def __str__(self):\n",
    "        return f'{self.fullname()}'\n",
    "    \n",
    "\n",
    "emp1 = Employee('John','Liver',60000)\n",
    "\n",
    "print(emp1)\n",
    "\n",
    "# now this will print the out of __str__ method"
   ]
  },
  {
   "cell_type": "code",
   "execution_count": 5,
   "metadata": {},
   "outputs": [
    {
     "name": "stdout",
     "output_type": "stream",
     "text": [
      "Employee(John, Liver, 60000)\n",
      "John Liver\n",
      "Employee(John, Liver, 60000)\n",
      "John Liver\n"
     ]
    }
   ],
   "source": [
    "# we can print both repr and str directly by calling them\n",
    "\n",
    "print(repr(emp1))\n",
    "print(str(emp1))\n",
    "\n",
    "# under the hood , below code will be executed\n",
    "\n",
    "print(emp1.__repr__())\n",
    "print(emp1.__str__())"
   ]
  },
  {
   "cell_type": "code",
   "execution_count": 6,
   "metadata": {},
   "outputs": [
    {
     "name": "stdout",
     "output_type": "stream",
     "text": [
      "3\n",
      "3\n",
      "\n",
      "ab\n",
      "ab\n"
     ]
    }
   ],
   "source": [
    "\"\"\"  OPERATOR OVERLOADING   \"\"\"\n",
    "\n",
    "print(1+2)\n",
    "\n",
    "# under the hood it calls int.add method\n",
    "\n",
    "print(int.__add__(1,2))\n",
    "\n",
    "# if we add strings it call str add method\n",
    "print()\n",
    "\n",
    "print('a'+'b')\n",
    "\n",
    "print(str.__add__('a','b'))"
   ]
  },
  {
   "cell_type": "code",
   "execution_count": 8,
   "metadata": {},
   "outputs": [
    {
     "name": "stdout",
     "output_type": "stream",
     "text": [
      "120000\n"
     ]
    },
    {
     "data": {
      "text/plain": [
       "120000"
      ]
     },
     "execution_count": 8,
     "metadata": {},
     "output_type": "execute_result"
    }
   ],
   "source": [
    "# we can customize how add works for our objects by creating __add__ method \n",
    "\"\"\" which is called as operator overloading\"\"\"\n",
    "\n",
    "# let's say we want to calculate the total salaries of all the employee objects\n",
    "# we can do that by adding __add__ method to emp call\n",
    "\n",
    "\"\"\" the __add__ will take in two parameters \n",
    "self , other ; self will be the left object of the add method\n",
    "and other will be the right object of the add method\n",
    "\"\"\"\n",
    "\n",
    "class Employee:\n",
    "    \n",
    "    def __init__(self, first, last, pay):\n",
    "        self.first = first\n",
    "        self.last = last\n",
    "        self.pay = pay\n",
    "    \n",
    "    def fullname(self):\n",
    "        return self.first+ ' ' +self.last\n",
    "    \n",
    "    def __repr__(self):\n",
    "        return f'Employee({self.first}, {self.last}, {self.pay})'\n",
    "    \n",
    "    def __str__(self):\n",
    "        return f'{self.fullname()}'\n",
    "    \n",
    "    def __add__(self, other):\n",
    "        return self.pay + other.pay\n",
    "    \n",
    "\n",
    "emp1 = Employee('John','Liver',60000)\n",
    "emp2 = Employee('Mike','Liver',60000)\n",
    "\n",
    "print(emp1 + emp2 )   # notice it is direct addition of emp1 + emp2 , no reference to employee class\n",
    "\n",
    "# under the hood below code will be executed\n",
    "\n",
    "Employee.__add__(emp1,emp2) "
   ]
  },
  {
   "cell_type": "code",
   "execution_count": null,
   "metadata": {},
   "outputs": [],
   "source": [
    "# we can use len function to perfrom some action inside the class\n",
    "# like length of the full name of employee\n",
    "\n",
    "\n",
    "class Employee:\n",
    "    \n",
    "    def __init__(self, first, last, pay):\n",
    "        self.first = first\n",
    "        self.last = last\n",
    "        self.pay = pay\n",
    "    \n",
    "    def fullname(self):\n",
    "        return self.first+ ' ' +self.last\n",
    "    \n",
    "    def __repr__(self):\n",
    "        return f'Employee({self.first}, {self.last}, {self.pay})'\n",
    "    \n",
    "    def __str__(self):\n",
    "        return f'{self.fullname()}'\n",
    "    \n",
    "    def __add__(self, other):\n",
    "        return self.pay + other.pay\n",
    "    \n",
    "    def __len__(self):\n",
    "        return len(self.fullname())\n",
    "    \n",
    "\n",
    "emp1 = Employee('John','Liver',60000)\n",
    "\n",
    "print(len(emp1))\n",
    "\n",
    "# if we do not have that __len__ function inside the class, we will get an error \n",
    "# object of type 'Employee' has no len()"
   ]
  },
  {
   "cell_type": "code",
   "execution_count": null,
   "metadata": {},
   "outputs": [],
   "source": [
    "# we can check if an object is an instance of a class\n",
    "\n",
    "by using isinstance(obj, class)\n",
    "# and the return certain logical output\n",
    "\n",
    "#else we can raise not implemented\n",
    "\n",
    "return NotImplemented\n",
    "\n",
    "# in any of our special method \n",
    "\n",
    "\n",
    "def __add__(self, other):\n",
    "    if isinstance(other, Employee):\n",
    "        return \"something\"\n",
    "    return NotImplemented\n",
    "\n",
    "# in the above code first will check if other object is instance of emp, \n",
    "# if True will return something\n",
    "# if False , the NotImplemented will go and check in the self object\n",
    "# if self object is also doesn't have any implementation, if will throw error."
   ]
  }
 ],
 "metadata": {
  "kernelspec": {
   "display_name": "Python 3",
   "language": "python",
   "name": "python3"
  },
  "language_info": {
   "codemirror_mode": {
    "name": "ipython",
    "version": 3
   },
   "file_extension": ".py",
   "mimetype": "text/x-python",
   "name": "python",
   "nbconvert_exporter": "python",
   "pygments_lexer": "ipython3",
   "version": "3.6.5"
  }
 },
 "nbformat": 4,
 "nbformat_minor": 2
}
