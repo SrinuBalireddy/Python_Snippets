{
 "cells": [
  {
   "cell_type": "code",
   "execution_count": 4,
   "metadata": {},
   "outputs": [
    {
     "name": "stdout",
     "output_type": "stream",
     "text": [
      "John Liver\n"
     ]
    }
   ],
   "source": [
    "############## Video1 #############\n",
    "\n",
    "class Employee:\n",
    "    \n",
    "    def __init__(self, first, last, pay):\n",
    "        self.first = first\n",
    "        self.last = last\n",
    "        self.pay = pay\n",
    "    \n",
    "    def fullname(self):\n",
    "        return self.first+ ' ' +self.last\n",
    "    \n",
    "\n",
    "emp1 = Employee('John','Liver',60000)\n",
    "emp2 = Employee('Mike','Sweater',70000)\n",
    "\n",
    "print(emp1.fullname())"
   ]
  },
  {
   "cell_type": "code",
   "execution_count": 6,
   "metadata": {},
   "outputs": [],
   "source": [
    "############### Video 2 summmary ####################\n",
    "### class variables\n",
    "\n",
    "\"\"\"\n",
    "Summary:\n",
    "In this video, Corey taught as how to differentiate between a Class variable and instance variable, how they are related to each,\n",
    "other, and when each of them is more useful over the other.\n",
    "Class variables are variables that we set inside a class, and are shared among all instances. Corey gave a good example \n",
    "where the number of total employs should be the same to every employ, no matter which employee we are referring to. Therefore,\n",
    "\n",
    "emp_1.num_of_employ = emp_2.num_of_employ = Employee.num_of_employ\n",
    "\n",
    "Instance variables are variables that are different from each instance. For example, the names and the pay for each employee. \n",
    "They have to be different.\n",
    "\n",
    "Corey also shows that class variables and instance variables are closely related, and that class variables are kind of \n",
    "'inherited' to the 'self' variables. To illustrate this, Corey shows an example of 'annual raise of pay'. He initially creates \n",
    "the class variable to show a case where annual raise is equal among all the employees. This variable of 1.04 was accessible \n",
    "through each instance, and also through the class itself(obiviously). That is,\n",
    "print(Employee.annual_raise)\n",
    "print(emp_1.annual_raise)\n",
    "print(emp_2.anual_rais)\n",
    "all printed out 1.04.\n",
    "\n",
    "\n",
    "However, using the ._dict__  thing, Corey shows that the intances, emp_1 and emp_2 does not contain the annual_raise value. \n",
    "Corey explains that if a variable is not found within an instance and programmers try to access the variable, \n",
    "python automatically looks in in the variable of the instance's class, and then the more classes that the instance's class \n",
    "inherits from.\n",
    "\n",
    "\n",
    "Furthermore, if we access the class variable through an instance and then change it, python creates the variable within the \n",
    "instance. We can check it by using the ._dict_ thing. Corey shows that annual_raise key was created when he manually changed \n",
    "the annual_raise value as 1.05 in the following way.\n",
    "emp_1.annual_raise = 1.05\n",
    "however, we know that the class variable remained the same at 1.04, when printing the class variable.\n",
    "print(Employee.annual_raise)\n",
    "\n",
    "\n",
    "==> 1.04\n",
    "\n",
    "\"\"\""
   ]
  },
  {
   "cell_type": "code",
   "execution_count": 8,
   "metadata": {},
   "outputs": [
    {
     "name": "stdout",
     "output_type": "stream",
     "text": [
      "60000\n",
      "62400\n"
     ]
    }
   ],
   "source": [
    "# class variable are the variables shared among all instances of a class\n",
    "# while instance variables can be unique like name, email and pay\n",
    "# class variables should be the same for each instance.\n",
    "\n",
    "# for the above Employee class we can use raise_amount as a class variable\n",
    "\n",
    "# before we create a class variable lets first hard code and see why a class varaible will be helpful\n",
    "\n",
    "\n",
    "class Employee:\n",
    "    \n",
    "    def __init__(self, first, last, pay):\n",
    "        self.first = first\n",
    "        self.last = last\n",
    "        self.pay = pay\n",
    "    \n",
    "    def fullname(self):\n",
    "        return self.first+ ' ' +self.last\n",
    "    \n",
    "    # create a  new method to give hike\n",
    "    \n",
    "    def apply_raise(self):\n",
    "        self.pay = int(self.pay * 1.04)    #hardcoding the raise amount to 4%\n",
    "        \n",
    "emp1 = Employee('John','Liver',60000)\n",
    "emp2 = Employee('Mike','Sweater',70000)\n",
    "\n",
    "print(emp1.pay)\n",
    "emp1.apply_raise()   # here this will apply the raise amount \n",
    "print(emp1.pay)\n"
   ]
  },
  {
   "cell_type": "code",
   "execution_count": 11,
   "metadata": {},
   "outputs": [
    {
     "name": "stdout",
     "output_type": "stream",
     "text": [
      "60000\n",
      "62400\n"
     ]
    }
   ],
   "source": [
    "# In the above code , we cannot modify the hike percentange like\n",
    "# emp1.raise_amount = somevalue\n",
    "# or Employee.raise_amount = somevalue\n",
    "\n",
    "# we currently doesnt have raise_amount attribute, we can create this as a class variable\n",
    "\n",
    "\n",
    "class Employee:\n",
    "    \n",
    "    # class variable\n",
    "    raise_amount = 1.04\n",
    "    \n",
    "    def __init__(self, first, last, pay):\n",
    "        self.first = first\n",
    "        self.last = last\n",
    "        self.pay = pay\n",
    "    \n",
    "    # create a  new method to give hike\n",
    "    \n",
    "    def apply_raise(self):\n",
    "        #self.pay = int(self.pay * 1.04)    #hardcoding the raise amount to 4%\n",
    "        \n",
    "        # here we can use the raise_amount as class instance or as an object instace\n",
    "        \n",
    "        #self.pay = int(self.pay * Employee.raise_amount) # this is class instance\n",
    "        self.pay = int(self.pay * self.raise_amount)     # this is object instance\n",
    "        \n",
    "        #self.pay = int(self.pay * raise_amount)   - without self. or Employee it will error out\n",
    "                                                   # saying raise_amount is not defined\n",
    "        \n",
    "        # when we use employee instance, the value will be same for all the objects\n",
    "        # and we cannot change the raise amount using emp1 or emp2 objects\n",
    "        # only way is to use \"Employee.raise_amount = new value\"\n",
    "        \n",
    "        # where  as when we use object instance(self.), we can change the value for \n",
    "        # which ever instance we would like to\n",
    "        \n",
    "emp1 = Employee('John','Liver',60000)\n",
    "emp2 = Employee('Mike','Sweater',70000)\n",
    "\n",
    "print(emp1.pay)\n",
    "emp1.apply_raise()\n",
    "print(emp1.pay)\n",
    "\n"
   ]
  },
  {
   "cell_type": "code",
   "execution_count": 15,
   "metadata": {},
   "outputs": [
    {
     "name": "stdout",
     "output_type": "stream",
     "text": [
      "1.04\n",
      "1.04\n",
      "1.04\n"
     ]
    }
   ],
   "source": [
    "print(Employee.raise_amount)\n",
    "print(emp1.raise_amount)\n",
    "print(emp2.raise_amount)\n",
    "\n",
    "\n",
    "# when we try to access an attribute on an instance , it will first check if that instance\n",
    "# contain that attribute and if it doesn't , it will check if the class or any other class \n",
    "# it inherits from contain that attribute\n",
    "\n",
    "# here when we access the raise_amount by using our instances, it won't have that attribute\n",
    "# so it gets it from the class"
   ]
  },
  {
   "cell_type": "code",
   "execution_count": 16,
   "metadata": {},
   "outputs": [
    {
     "data": {
      "text/plain": [
       "{'first': 'John', 'last': 'Liver', 'pay': 62400}"
      ]
     },
     "execution_count": 16,
     "metadata": {},
     "output_type": "execute_result"
    }
   ],
   "source": [
    "# in the above example, emp1 and emp2 namespaces will not have the raise_amount varaiable \n",
    "# to find out use __dict__ method on the instance\n",
    "\n",
    "emp1.__dict__\n",
    "\n",
    "# in the below result that is no raise_amount attribute"
   ]
  },
  {
   "cell_type": "code",
   "execution_count": 17,
   "metadata": {},
   "outputs": [
    {
     "data": {
      "text/plain": [
       "mappingproxy({'__module__': '__main__',\n",
       "              'raise_amount': 1.04,\n",
       "              '__init__': <function __main__.Employee.__init__(self, first, last, pay)>,\n",
       "              'apply_raise': <function __main__.Employee.apply_raise(self)>,\n",
       "              '__dict__': <attribute '__dict__' of 'Employee' objects>,\n",
       "              '__weakref__': <attribute '__weakref__' of 'Employee' objects>,\n",
       "              '__doc__': None})"
      ]
     },
     "execution_count": 17,
     "metadata": {},
     "output_type": "execute_result"
    }
   ],
   "source": [
    "Employee.__dict__\n",
    "\n",
    "# this will have the raise_amount attribute"
   ]
  },
  {
   "cell_type": "code",
   "execution_count": 18,
   "metadata": {},
   "outputs": [
    {
     "name": "stdout",
     "output_type": "stream",
     "text": [
      "1.05\n",
      "1.05\n",
      "1.05\n"
     ]
    }
   ],
   "source": [
    "# when we change the raise_amount using the class instance , it will cascade the \n",
    "# new value to all the objects\n",
    "\n",
    "Employee.raise_amount = 1.05\n",
    "\n",
    "print(Employee.raise_amount)\n",
    "print(emp1.raise_amount)\n",
    "print(emp2.raise_amount)"
   ]
  },
  {
   "cell_type": "code",
   "execution_count": 20,
   "metadata": {},
   "outputs": [
    {
     "name": "stdout",
     "output_type": "stream",
     "text": [
      "1.05\n",
      "1.07\n",
      "1.05\n"
     ]
    }
   ],
   "source": [
    "# if we were to set the raise amount of an instance rather than a class\n",
    "\n",
    "emp1.raise_amount = 1.07\n",
    "\n",
    "print(Employee.raise_amount)\n",
    "print(emp1.raise_amount)\n",
    "print(emp2.raise_amount)\n",
    "\n",
    "# so here when we use emp1.raise_amount = value, it actually creates that attribute for this instance\n",
    "# we can see that using the .__dict__ method \n",
    "\n"
   ]
  },
  {
   "cell_type": "code",
   "execution_count": 21,
   "metadata": {},
   "outputs": [
    {
     "name": "stdout",
     "output_type": "stream",
     "text": [
      "{'first': 'John', 'last': 'Liver', 'pay': 62400, 'raise_amount': 1.07}\n"
     ]
    }
   ],
   "source": [
    "print(emp1.__dict__)\n",
    "\n",
    "# now the raise_amount attribute will be available directly in the emp1 instance itself\n",
    "# so it won't use the class raise_amount attribute anymore\n",
    "\n",
    "# emp2 will not have this raise_amount and it will go and access class attribute"
   ]
  },
  {
   "cell_type": "code",
   "execution_count": 22,
   "metadata": {},
   "outputs": [
    {
     "name": "stdout",
     "output_type": "stream",
     "text": [
      "0\n",
      "2\n"
     ]
    }
   ],
   "source": [
    "# if we were to add a new attribute to count the number of employees\n",
    "# it makes sense to have this attribute as a class attribute rather than an instace attribute\n",
    "# because we want to increment this attribute everytime a new object is created(or an employee object)\n",
    "\n",
    "\n",
    "class Employee:\n",
    "    \n",
    "    no_of_emps = 0\n",
    "    raise_amount = 1.04\n",
    "    \n",
    "    def __init__(self, first, last, pay):\n",
    "        self.first = first\n",
    "        self.last = last\n",
    "        self.pay = pay\n",
    "        \n",
    "        # incrementing the no of emps\n",
    "        \n",
    "        Employee.no_of_emps +=1    # notice Employee. (its not self.)\n",
    "    \n",
    "    def fullname(self):\n",
    "        return self.first+ ' ' +self.last\n",
    "    \n",
    "    # create a  new method to give hike\n",
    "    \n",
    "    def apply_raise(self):\n",
    "        self.pay = int(self.pay * self.raise_amount)\n",
    "        \n",
    "\n",
    "# checking the no of employees before any objects\n",
    "\n",
    "print(Employee.no_of_emps)\n",
    "        \n",
    "emp1 = Employee('John','Liver',60000)\n",
    "emp2 = Employee('Mike','Sweater',70000)\n",
    "\n",
    "# after employees creation\n",
    "\n",
    "print(Employee.no_of_emps)"
   ]
  },
  {
   "cell_type": "code",
   "execution_count": null,
   "metadata": {},
   "outputs": [],
   "source": []
  }
 ],
 "metadata": {
  "kernelspec": {
   "display_name": "Python 3",
   "language": "python",
   "name": "python3"
  },
  "language_info": {
   "codemirror_mode": {
    "name": "ipython",
    "version": 3
   },
   "file_extension": ".py",
   "mimetype": "text/x-python",
   "name": "python",
   "nbconvert_exporter": "python",
   "pygments_lexer": "ipython3",
   "version": "3.6.5"
  }
 },
 "nbformat": 4,
 "nbformat_minor": 2
}
