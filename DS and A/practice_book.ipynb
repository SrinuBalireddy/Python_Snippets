{
 "cells": [
  {
   "cell_type": "code",
   "execution_count": 11,
   "metadata": {},
   "outputs": [
    {
     "name": "stdout",
     "output_type": "stream",
     "text": [
      "[1]\n",
      "[1, 2]\n",
      "False\n",
      "2\n",
      "1\n",
      "True\n",
      "No items in the stack\n",
      "1\n"
     ]
    }
   ],
   "source": [
    "#Stack\n",
    "\n",
    "class Stack:\n",
    "    \n",
    "    def __init__(self):\n",
    "        self.items = []\n",
    "        \n",
    "    def push(self, item):\n",
    "        self.items.append(item)\n",
    "    \n",
    "    def pop(self):\n",
    "        return self.items.pop()\n",
    "    \n",
    "    def get_items(self):\n",
    "        return self.items\n",
    "        \n",
    "    def isempty(self):\n",
    "        return self.items == []\n",
    "    \n",
    "    def peek(self):\n",
    "        if not self.isempty():\n",
    "            return self.items[-1]\n",
    "        else:\n",
    "            return \"No items in the stack\"\n",
    "            \n",
    "\n",
    "s = Stack()\n",
    "s.push(1)\n",
    "print(s.get_items())\n",
    "s.push(2)\n",
    "print(s.get_items())\n",
    "print(s.isempty())\n",
    "print(s.pop())\n",
    "print(s.pop())\n",
    "print(s.isempty())\n",
    "print(s.peek())\n",
    "s.push(1)\n",
    "print(s.peek())"
   ]
  },
  {
   "cell_type": "code",
   "execution_count": 19,
   "metadata": {},
   "outputs": [
    {
     "name": "stdout",
     "output_type": "stream",
     "text": [
      "(\n",
      "(\n",
      ")\n",
      "['(', '(']\n",
      "Valid parenthesis\n"
     ]
    }
   ],
   "source": [
    "# to validate paranthesis\n",
    "\n",
    "def is_valid(p1, p2):\n",
    "    \n",
    "    if p1 == '(' and p2 == ')':\n",
    "        return True\n",
    "    elif p1 == '[' and p2 == ']':\n",
    "        return True\n",
    "    elif p1 == '{' and p2 == '}':\n",
    "        return True\n",
    "    else:\n",
    "        return False\n",
    "    \n",
    "\n",
    "def validate_parenthesis(input_value):\n",
    "    \n",
    "    s = Stack()\n",
    "    \n",
    "    for value in input_value:\n",
    "        print(value)\n",
    "        if value == '(' or value == '[' or value == '{':\n",
    "            s.push(value)\n",
    "        \n",
    "        else:\n",
    "            print(s.get_items())\n",
    "            if s.isempty():\n",
    "                return \"Invalid parenthesis\"\n",
    "            else:\n",
    "                last_index = s.pop()\n",
    "                if is_valid(last_index, value):\n",
    "                    continue\n",
    "                else:\n",
    "                    return \"Invalid parenthesis\"\n",
    "    return \"Valid parenthesis\"\n",
    "                \n",
    "\n",
    "print(validate_parenthesis('(()'))\n",
    "    "
   ]
  },
  {
   "cell_type": "code",
   "execution_count": 28,
   "metadata": {},
   "outputs": [
    {
     "name": "stdout",
     "output_type": "stream",
     "text": [
      "False\n"
     ]
    }
   ],
   "source": [
    "\n",
    "def is_match(p1, p2):\n",
    "    \n",
    "    if p1+p2 in ['[]', '()', '{}']:\n",
    "        return True\n",
    "    else:\n",
    "        return False\n",
    "\n",
    "def paren_balance(paren_pattern):\n",
    "    \n",
    "    s = Stack()\n",
    "    is_balanced = True\n",
    "    index = 0\n",
    "    \n",
    "    while index< len(paren_pattern) and is_balanced:\n",
    "        paren = paren_pattern[index]\n",
    "        \n",
    "        if paren in '([{':\n",
    "            s.push(paren)\n",
    "        else:\n",
    "            if s.isempty():\n",
    "                is_balanced = False\n",
    "            else:\n",
    "                top = s.pop()\n",
    "                if not is_match(top, paren):\n",
    "                    is_balanced = False\n",
    "        index+=1\n",
    "    \n",
    "    if s.isempty() and is_balanced:\n",
    "        return True\n",
    "    else:\n",
    "        return False\n",
    "      \n",
    "print(paren_balance('(()'))    \n",
    "    "
   ]
  },
  {
   "cell_type": "code",
   "execution_count": 10,
   "metadata": {},
   "outputs": [
    {
     "name": "stdout",
     "output_type": "stream",
     "text": [
      "A\n",
      "B\n"
     ]
    }
   ],
   "source": [
    "# linked list\n",
    "\n",
    "class Node(object):\n",
    "    def __init__(self, data):\n",
    "        self.data = data\n",
    "        self.next = None\n",
    "        \n",
    "class LinkedList(object):\n",
    "    def __init__(self):\n",
    "        self.head = None\n",
    "        \n",
    "    # append new node\n",
    "    def append(self, data):\n",
    "        newnode = Node(data)\n",
    "        # if list is empty\n",
    "        if self.head is None:\n",
    "            self.head = newnode\n",
    "            return\n",
    "        last_node = self.head\n",
    "        while last_node.next:\n",
    "            last_node = last_node.next\n",
    "        last_node.next = newnode\n",
    "    \n",
    "    def print_list(self):\n",
    "        cur_node = self.head\n",
    "        while cur_node:\n",
    "            print(cur_node.data)\n",
    "            cur_node = cur_node.next\n",
    "    \n",
    "    def insert_after_node(self, data):\n",
    "        pass\n",
    "    \n",
    "    def prepend(self, data):\n",
    "        newnode = Node(data)\n",
    "        \n",
    "        \n",
    "llist = LinkedList()\n",
    "llist.append('A')\n",
    "llist.append('B')\n",
    "llist.print_list()            "
   ]
  },
  {
   "cell_type": "code",
   "execution_count": null,
   "metadata": {},
   "outputs": [],
   "source": []
  }
 ],
 "metadata": {
  "kernelspec": {
   "display_name": "Python 3",
   "language": "python",
   "name": "python3"
  },
  "language_info": {
   "codemirror_mode": {
    "name": "ipython",
    "version": 3
   },
   "file_extension": ".py",
   "mimetype": "text/x-python",
   "name": "python",
   "nbconvert_exporter": "python",
   "pygments_lexer": "ipython3",
   "version": "3.6.5"
  }
 },
 "nbformat": 4,
 "nbformat_minor": 2
}
