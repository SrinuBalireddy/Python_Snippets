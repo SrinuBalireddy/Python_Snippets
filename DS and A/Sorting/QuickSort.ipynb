{
 "cells": [
  {
   "cell_type": "code",
   "execution_count": 1,
   "metadata": {},
   "outputs": [
    {
     "name": "stdout",
     "output_type": "stream",
     "text": [
      "[3]\n",
      "[]\n",
      "[3, 5]\n",
      "[]\n",
      "[3, 5]\n",
      "[9]\n",
      "[3, 5, 6]\n",
      "[9]\n",
      "[3, 5, 6]\n",
      "[9, 10]\n",
      "[3, 5, 6, 5]\n",
      "[9, 10]\n",
      "[3, 5, 6, 5, 1]\n",
      "[9, 10]\n",
      "[3, 5, 6, 5, 1]\n",
      "[9, 10, 7]\n",
      "[3, 5, 6, 5, 1, 2]\n",
      "[9, 10, 7]\n",
      "[]\n",
      "[3]\n",
      "[]\n",
      "[3, 5]\n",
      "[]\n",
      "[3, 5, 6]\n",
      "[]\n",
      "[3, 5, 6, 5]\n",
      "[1]\n",
      "[3, 5, 6, 5]\n",
      "[3]\n",
      "[]\n",
      "[3, 5]\n",
      "[]\n",
      "[3, 5]\n",
      "[6]\n",
      "[3]\n",
      "[]\n",
      "[]\n",
      "[9]\n",
      "[]\n",
      "[9, 10]\n",
      "[9]\n",
      "[]\n",
      "[1, 2, 3, 5, 5, 6, 6, 7, 9, 10]\n"
     ]
    }
   ],
   "source": [
    "def Quicksort(my_list):\n",
    "    \n",
    "    if len(my_list) <= 1:\n",
    "        return my_list\n",
    "    else:\n",
    "        pivot = my_list.pop()\n",
    "    \n",
    "    lt_pivot =[]\n",
    "    gt_pivot =[]\n",
    "    \n",
    "    for i in range(len(my_list)):\n",
    "        \n",
    "        if my_list[i] > pivot:\n",
    "            gt_pivot.append(my_list[i])\n",
    "        else:\n",
    "            lt_pivot.append(my_list[i])\n",
    "        \n",
    "        print(lt_pivot)\n",
    "        print(gt_pivot)\n",
    "            \n",
    "    return Quicksort(lt_pivot) + [pivot] + Quicksort(gt_pivot)\n",
    "\n",
    "# import random\n",
    "# my_list = [random.randint(1, 10) for _ in range(10)]\n",
    "# print(my_list)\n",
    "print(Quicksort([3, 5, 9, 6, 10, 5, 1, 7, 2, 6]))\n",
    "    "
   ]
  },
  {
   "cell_type": "code",
   "execution_count": null,
   "metadata": {},
   "outputs": [],
   "source": []
  }
 ],
 "metadata": {
  "kernelspec": {
   "display_name": "Python 3",
   "language": "python",
   "name": "python3"
  },
  "language_info": {
   "codemirror_mode": {
    "name": "ipython",
    "version": 3
   },
   "file_extension": ".py",
   "mimetype": "text/x-python",
   "name": "python",
   "nbconvert_exporter": "python",
   "pygments_lexer": "ipython3",
   "version": "3.6.5"
  }
 },
 "nbformat": 4,
 "nbformat_minor": 2
}
