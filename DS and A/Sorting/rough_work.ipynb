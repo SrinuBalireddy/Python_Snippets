{
 "cells": [
  {
   "cell_type": "code",
   "execution_count": 29,
   "metadata": {},
   "outputs": [
    {
     "data": {
      "text/plain": [
       "[4, 10, 3, 6, 1, 6, 4, 4, 6, 5]"
      ]
     },
     "execution_count": 29,
     "metadata": {},
     "output_type": "execute_result"
    }
   ],
   "source": [
    "# bubble sorting\n",
    "\n",
    "def Bubblesort(my_list):\n",
    "    \n",
    "    sorted = False\n",
    "    \n",
    "    while not sorted:\n",
    "        sorted = True\n",
    "    \n",
    "        for i in range(len(my_list)-1):\n",
    "            if my_list[i] > my_list[i+1]:\n",
    "                sorted = False\n",
    "                my_list[i] , my_list[i+1] = my_list[i+1], my_list[i]\n",
    "        \n",
    "    return my_list\n",
    "\n",
    "import random\n",
    "my_list = [random.randint(1,10) for _ in range(10)]\n",
    "my_list"
   ]
  },
  {
   "cell_type": "code",
   "execution_count": 30,
   "metadata": {},
   "outputs": [
    {
     "name": "stdout",
     "output_type": "stream",
     "text": [
      "[1, 3, 4, 4, 4, 5, 6, 6, 6, 10]\n"
     ]
    }
   ],
   "source": [
    "print(Bubblesort(my_list))"
   ]
  },
  {
   "cell_type": "code",
   "execution_count": 34,
   "metadata": {},
   "outputs": [
    {
     "data": {
      "text/plain": [
       "[5, 5, 3, 2, 8, 3, 8, 1, 3, 5]"
      ]
     },
     "execution_count": 34,
     "metadata": {},
     "output_type": "execute_result"
    }
   ],
   "source": [
    "# selection sort\n",
    "\n",
    "def Selectionsort(my_list):\n",
    "    \n",
    "    for i in range(len(my_list)-1):\n",
    "        for j in range(i+1, len(my_list)):\n",
    "            if my_list[i]>my_list[j]:\n",
    "                my_list[i] , my_list[j] = my_list[j], my_list[i]\n",
    "    return my_list\n",
    "\n",
    "import random\n",
    "my_list = [random.randint(1,10) for _ in range(10)]\n",
    "my_list"
   ]
  },
  {
   "cell_type": "code",
   "execution_count": 35,
   "metadata": {},
   "outputs": [
    {
     "name": "stdout",
     "output_type": "stream",
     "text": [
      "[1, 2, 3, 3, 3, 5, 5, 5, 8, 8]\n"
     ]
    }
   ],
   "source": [
    "print(Selectionsort(my_list))"
   ]
  },
  {
   "cell_type": "code",
   "execution_count": 36,
   "metadata": {},
   "outputs": [
    {
     "data": {
      "text/plain": [
       "[3, 5, 6, 4, 10, 4, 5, 8, 9, 5]"
      ]
     },
     "execution_count": 36,
     "metadata": {},
     "output_type": "execute_result"
    }
   ],
   "source": [
    "# insetion sort\n",
    "\n",
    "def Insertionsort(my_list):\n",
    "    \n",
    "    for i in range(1, len(my_list)):\n",
    "        if my_list[i] < my_list[i-1]:\n",
    "            for j in range(i):\n",
    "                if my_list[i] < my_list[j]:\n",
    "                    my_list[i] , my_list[j] = my_list[j], my_list[i]\n",
    "    return my_list\n",
    "\n",
    "import random\n",
    "my_list = [random.randint(1,10) for _ in range(10)]\n",
    "my_list"
   ]
  },
  {
   "cell_type": "code",
   "execution_count": 37,
   "metadata": {},
   "outputs": [
    {
     "name": "stdout",
     "output_type": "stream",
     "text": [
      "[3, 4, 4, 5, 5, 5, 6, 8, 9, 10]\n"
     ]
    }
   ],
   "source": [
    "print(Insertionsort(my_list))"
   ]
  },
  {
   "cell_type": "code",
   "execution_count": 54,
   "metadata": {},
   "outputs": [
    {
     "data": {
      "text/plain": [
       "[9, 7, 3, 8, 8, 6, 5, 9, 9, 7]"
      ]
     },
     "execution_count": 54,
     "metadata": {},
     "output_type": "execute_result"
    }
   ],
   "source": [
    "# quick sort\n",
    "\n",
    "def Quicksort(my_list):\n",
    "    \n",
    "    lt_pivot = []\n",
    "    gt_pivot = []\n",
    "    \n",
    "    if len(my_list) <= 1:\n",
    "        return my_list\n",
    "    else:\n",
    "        pivot = my_list.pop()\n",
    "    \n",
    "    for i in range(len(my_list)):\n",
    "\n",
    "        if pivot < my_list[i]:\n",
    "            gt_pivot.append(my_list[i])\n",
    "        else:\n",
    "            lt_pivot.append(my_list[i])\n",
    "            \n",
    "    return Quicksort(lt_pivot)+ [pivot] + Quicksort(gt_pivot)   \n",
    "\n",
    "import random\n",
    "my_list = [random.randint(1,10) for _ in range(10)]\n",
    "my_list"
   ]
  },
  {
   "cell_type": "code",
   "execution_count": 55,
   "metadata": {},
   "outputs": [
    {
     "name": "stdout",
     "output_type": "stream",
     "text": [
      "[3, 5, 6, 7, 7, 8, 8, 9, 9, 9]\n"
     ]
    }
   ],
   "source": [
    "print(Quicksort(my_list))"
   ]
  },
  {
   "cell_type": "code",
   "execution_count": null,
   "metadata": {},
   "outputs": [],
   "source": []
  }
 ],
 "metadata": {
  "kernelspec": {
   "display_name": "Python 3",
   "language": "python",
   "name": "python3"
  },
  "language_info": {
   "codemirror_mode": {
    "name": "ipython",
    "version": 3
   },
   "file_extension": ".py",
   "mimetype": "text/x-python",
   "name": "python",
   "nbconvert_exporter": "python",
   "pygments_lexer": "ipython3",
   "version": "3.6.5"
  }
 },
 "nbformat": 4,
 "nbformat_minor": 2
}
