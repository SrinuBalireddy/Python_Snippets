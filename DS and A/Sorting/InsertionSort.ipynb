{
 "cells": [
  {
   "cell_type": "code",
   "execution_count": null,
   "metadata": {},
   "outputs": [],
   "source": [
    "How Insertion Sort Works?\n",
    "Following are the steps involved in insertion sort:\n",
    "\n",
    "1. We start by making the second element of the given array, i.e. element at index 1, the key. \n",
    "   The key element here is the new card that we need to add to our existing sorted set of \n",
    "   cards(remember the example with cards above).\n",
    "\n",
    "2. We compare the key element with the element(s) before it, in this case, element at index 0:\n",
    "    If the key element is less than the first element, we insert the key element before the first element.\n",
    "    If the key element is greater than the first element, then we insert it after the first element.\n",
    "\n",
    "3. Then, we make the third element of the array as key and will compare it with elements to it's \n",
    "    left and insert it at the right position.\n",
    "\n",
    "4. And we go on repeating this, until the array is sorted."
   ]
  },
  {
   "cell_type": "code",
   "execution_count": 18,
   "metadata": {},
   "outputs": [
    {
     "data": {
      "text/plain": [
       "[-3.11, 0, 1, 2, 3, 6, 7, 8, 11]"
      ]
     },
     "execution_count": 18,
     "metadata": {},
     "output_type": "execute_result"
    }
   ],
   "source": [
    "# my solution\n",
    "\n",
    "def Insertionsort(my_list):\n",
    "    \n",
    "    sorted_list = [my_list[0]]\n",
    "    \n",
    "    for i in range(1,len(my_list)):\n",
    "        sorted_list.append(my_list[i])\n",
    "        for j in range(len(sorted_list)-1, 0, -1):\n",
    "            if sorted_list[j] < sorted_list[j-1]:\n",
    "                sorted_list[j], sorted_list[j-1] = sorted_list[j-1], sorted_list[j]\n",
    "            else:\n",
    "                break\n",
    "    return sorted_list\n",
    "                \n",
    "                \n",
    "Insertionsort([3,2,6,1,8,7,0,-3.11,11])      \n",
    "        "
   ]
  },
  {
   "cell_type": "code",
   "execution_count": 19,
   "metadata": {
    "scrolled": true
   },
   "outputs": [
    {
     "data": {
      "text/plain": [
       "[-3.11, 0, 1, 2, 3, 6, 7, 8, 11]"
      ]
     },
     "execution_count": 19,
     "metadata": {},
     "output_type": "execute_result"
    }
   ],
   "source": [
    "# other way\n",
    "\n",
    "def Insertionsort(my_list):\n",
    "    \n",
    "    for i in range(1, len(my_list)):\n",
    "        \n",
    "        while my_list[i] < my_list[i-1] and i>0:\n",
    "            my_list[i-1] , my_list[i] = my_list[i] , my_list[i-1]\n",
    "            i-=1\n",
    "        \n",
    "    return my_list\n",
    "\n",
    "Insertionsort([3,2,6,1,8,7,0,-3.11,11]) "
   ]
  },
  {
   "cell_type": "code",
   "execution_count": null,
   "metadata": {},
   "outputs": [],
   "source": [
    "Complexity Analysis of Insertion Sort\n",
    "As we mentioned above that insertion sort is an efficient sorting algorithm, as it does not run on preset conditions using \n",
    "for loops, but instead it uses one while loop, which avoids extra steps once the array gets sorted.\n",
    "\n",
    "Even though insertion sort is efficient, still, if we provide an already sorted array to the insertion sort algorithm, \n",
    "it will still execute the outer for loop, thereby requiring n steps to sort an already sorted array of n elements, \n",
    "which makes its best case time complexity a linear function of n.\n",
    "\n",
    "Worst Case Time Complexity [ Big-O ]: O(n2)\n",
    "\n",
    "Best Case Time Complexity [Big-omega]: O(n)\n",
    "\n",
    "Average Time Complexity [Big-theta]: O(n2)\n",
    "\n",
    "Space Complexity: O(1)"
   ]
  }
 ],
 "metadata": {
  "kernelspec": {
   "display_name": "Python 3",
   "language": "python",
   "name": "python3"
  },
  "language_info": {
   "codemirror_mode": {
    "name": "ipython",
    "version": 3
   },
   "file_extension": ".py",
   "mimetype": "text/x-python",
   "name": "python",
   "nbconvert_exporter": "python",
   "pygments_lexer": "ipython3",
   "version": "3.6.5"
  }
 },
 "nbformat": 4,
 "nbformat_minor": 2
}
