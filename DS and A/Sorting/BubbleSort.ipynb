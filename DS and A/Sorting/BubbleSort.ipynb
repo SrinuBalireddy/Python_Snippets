{
 "cells": [
  {
   "cell_type": "code",
   "execution_count": 6,
   "metadata": {},
   "outputs": [
    {
     "data": {
      "text/plain": [
       "[1, 2, 2, 3, 4, 5, 6]"
      ]
     },
     "execution_count": 6,
     "metadata": {},
     "output_type": "execute_result"
    }
   ],
   "source": [
    "def Bubblesort(my_list):\n",
    "    \n",
    "    sorted = False\n",
    "    \n",
    "    while not sorted:\n",
    "        sorted = True\n",
    "        for i in range(len(my_list)-1):\n",
    "            if my_list[i] > my_list[i+1]:\n",
    "                sorted = False\n",
    "                my_list[i], my_list[i+1] = my_list[i+1], my_list[i] \n",
    "    return my_list\n",
    "            \n",
    "\n",
    "Bubblesort([1,3,5,2,4,6,2])"
   ]
  },
  {
   "cell_type": "code",
   "execution_count": null,
   "metadata": {},
   "outputs": [],
   "source": [
    "Complexity Analysis of Bubble Sort\n",
    "In Bubble Sort, n-1 comparisons will be done in the 1st pass, n-2 in 2nd pass, n-3 in 3rd pass and so on. So the total number of comparisons will be,\n",
    "\n",
    "\n",
    "(n-1) + (n-2) + (n-3) + ..... + 3 + 2 + 1\n",
    "Sum = n(n-1)/2\n",
    "i.e O(n2)\n",
    "\n",
    "Hence the time complexity of Bubble Sort is O(n2).\n",
    "\n",
    "The main advantage of Bubble Sort is the simplicity of the algorithm.\n",
    "\n",
    "The space complexity for Bubble Sort is O(1), because only a single additional memory space is required i.e. for temp variable.\n",
    "\n",
    "Also, the best case time complexity will be O(n), it is when the list is already sorted.\n",
    "\n",
    "Following are the Time and Space complexity for the Bubble Sort algorithm.\n",
    "\n",
    "Worst Case Time Complexity [ Big-O ]: O(n2)\n",
    "Best Case Time Complexity [Big-omega]: O(n)\n",
    "Average Time Complexity [Big-theta]: O(n2)\n",
    "Space Complexity: O(1)"
   ]
  }
 ],
 "metadata": {
  "kernelspec": {
   "display_name": "Python 3",
   "language": "python",
   "name": "python3"
  },
  "language_info": {
   "codemirror_mode": {
    "name": "ipython",
    "version": 3
   },
   "file_extension": ".py",
   "mimetype": "text/x-python",
   "name": "python",
   "nbconvert_exporter": "python",
   "pygments_lexer": "ipython3",
   "version": "3.6.5"
  }
 },
 "nbformat": 4,
 "nbformat_minor": 2
}
