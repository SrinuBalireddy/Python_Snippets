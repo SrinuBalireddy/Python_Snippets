{
 "cells": [
  {
   "cell_type": "code",
   "execution_count": 7,
   "metadata": {},
   "outputs": [
    {
     "data": {
      "text/plain": [
       "[0, 1, 2, 3, 4, 5, 8]"
      ]
     },
     "execution_count": 7,
     "metadata": {},
     "output_type": "execute_result"
    }
   ],
   "source": [
    "\"\"\"\n",
    "compare the first value in the list with all the others and find the min value\n",
    "once the min value is found, push it to the first and repeat the first time on the remaining items in the list\n",
    "\"\"\"\n",
    "\n",
    "def Selectionsort(my_list):\n",
    "    \n",
    "    for i in range(len(my_list)-1):\n",
    "        for j in range(i+1, len(my_list)):\n",
    "            if my_list[i] > my_list[j]:\n",
    "                my_list[i],my_list[j]  = my_list[j] ,my_list[i] \n",
    "    return my_list\n",
    "                \n",
    "Selectionsort([4,5,2,8,3,1,0])\n",
    "    "
   ]
  },
  {
   "cell_type": "code",
   "execution_count": null,
   "metadata": {},
   "outputs": [],
   "source": [
    "Complexity Analysis of Selection Sort\n",
    "Selection Sort requires two nested for loops to complete itself, one for loop is in the function selectionSort, and inside the first loop we are making a call to another function indexOfMinimum, which has the second(inner) for loop.\n",
    "\n",
    "Hence for a given input size of n, following will be the time and space complexity for selection sort algorithm:\n",
    "\n",
    "Worst Case Time Complexity [ Big-O ]: O(n2)\n",
    "\n",
    "Best Case Time Complexity [Big-omega]: O(n2)\n",
    "\n",
    "Average Time Complexity [Big-theta]: O(n2)\n",
    "\n",
    "Space Complexity: O(1)"
   ]
  }
 ],
 "metadata": {
  "kernelspec": {
   "display_name": "Python 3",
   "language": "python",
   "name": "python3"
  },
  "language_info": {
   "codemirror_mode": {
    "name": "ipython",
    "version": 3
   },
   "file_extension": ".py",
   "mimetype": "text/x-python",
   "name": "python",
   "nbconvert_exporter": "python",
   "pygments_lexer": "ipython3",
   "version": "3.6.5"
  }
 },
 "nbformat": 4,
 "nbformat_minor": 2
}
