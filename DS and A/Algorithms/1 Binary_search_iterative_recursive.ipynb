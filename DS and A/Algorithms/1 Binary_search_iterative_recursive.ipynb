{
 "cells": [
  {
   "cell_type": "code",
   "execution_count": 30,
   "metadata": {},
   "outputs": [
    {
     "data": {
      "text/plain": [
       "'Target not found'"
      ]
     },
     "execution_count": 30,
     "metadata": {},
     "output_type": "execute_result"
    }
   ],
   "source": [
    "my_list = [10, 2, 9, 3, 1, 8, 7, 1, 9, 2]\n",
    "target = 12\n",
    "\n",
    "# binary search Iterative\n",
    "def binarysearch_iterative(my_list, target):\n",
    "    my_list.sort()\n",
    "    \n",
    "    low = 0\n",
    "    high = len(my_list)-1\n",
    "    \n",
    "    while low <= high:\n",
    "        mid = (low+high) // 2\n",
    "        if my_list[mid] == target:\n",
    "            return 'Target found'\n",
    "        elif my_list[mid] < target:\n",
    "            low = mid+1\n",
    "        else:\n",
    "            high = mid-1\n",
    "            \n",
    "    return 'Target not found'\n",
    "    \n",
    "binarysearch_iterative(my_list, target)"
   ]
  },
  {
   "cell_type": "code",
   "execution_count": 34,
   "metadata": {},
   "outputs": [
    {
     "name": "stdout",
     "output_type": "stream",
     "text": [
      "Target found\n"
     ]
    }
   ],
   "source": [
    "my_list = [10, 2, 9, 3, 1, 8, 7, 1, 9, 2]\n",
    "my_list.sort()\n",
    "target = 10\n",
    "\n",
    "# binary search recursive\n",
    "def binarysearch_recursive(my_list, target, low, high):\n",
    "    \n",
    "    if low > high:\n",
    "        return 'Target Not found'\n",
    "    \n",
    "    mid = (low+high) // 2\n",
    "    if my_list[mid] == target:\n",
    "        return 'Target found'\n",
    "    elif my_list[mid] < target:\n",
    "        return binarysearch_recursive(my_list, target, mid+1, high)\n",
    "    else:\n",
    "        return binarysearch_recursive(my_list, target, low, mid-1)\n",
    "\n",
    "print(binarysearch_recursive(my_list, target, 0 , len(my_list)-1))"
   ]
  },
  {
   "cell_type": "code",
   "execution_count": 32,
   "metadata": {},
   "outputs": [
    {
     "name": "stdout",
     "output_type": "stream",
     "text": [
      "Target element found at the index 15 in 2 tries\n"
     ]
    }
   ],
   "source": [
    "numlist = [n for n in range(21)]\n",
    "target = 15\n",
    "\n",
    "def binary_search_recursive(list, target, low, high, i=0):\n",
    "\n",
    "    i+=1\n",
    "\n",
    "    if low > high:\n",
    "        return 'Target element not found'\n",
    "\n",
    "    mid = (low+high)//2\n",
    "    if target == list[mid]:\n",
    "        return 'Target element found at the index '+ str(mid)+ ' in ' + str(i) + ' tries'\n",
    "    elif target > list[mid]:\n",
    "        return binary_search_recursive(list, target, mid+1, high, i)\n",
    "    else:\n",
    "        return binary_search_recursive(list, target, low, mid-1, i)\n",
    "\n",
    "print(binary_search_recursive(numlist,target,0,len(numlist)-1))"
   ]
  },
  {
   "cell_type": "code",
   "execution_count": null,
   "metadata": {},
   "outputs": [],
   "source": []
  }
 ],
 "metadata": {
  "kernelspec": {
   "display_name": "Python 3",
   "language": "python",
   "name": "python3"
  },
  "language_info": {
   "codemirror_mode": {
    "name": "ipython",
    "version": 3
   },
   "file_extension": ".py",
   "mimetype": "text/x-python",
   "name": "python",
   "nbconvert_exporter": "python",
   "pygments_lexer": "ipython3",
   "version": "3.6.5"
  }
 },
 "nbformat": 4,
 "nbformat_minor": 2
}
