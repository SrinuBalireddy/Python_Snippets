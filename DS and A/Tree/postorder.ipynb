{
 "cells": [
  {
   "cell_type": "code",
   "execution_count": 9,
   "metadata": {},
   "outputs": [
    {
     "data": {
      "text/plain": [
       "'4-5-2-6-7-3-1-'"
      ]
     },
     "execution_count": 9,
     "metadata": {},
     "output_type": "execute_result"
    }
   ],
   "source": [
    "# postorder\n",
    "# left -> right -> root\n",
    "\n",
    "#             1\n",
    "#           /   \\\n",
    "#          2     3\n",
    "#         / \\   / \\\n",
    "#        4   5 6   7\n",
    "\n",
    "# result : 4-5-2-6-7-3-1\n",
    "\n",
    "class Node(object):\n",
    "    def __init__(self, value):\n",
    "        self.value = value\n",
    "        self.left = None\n",
    "        self.right = None\n",
    "\n",
    "class BinaryTree(object):\n",
    "    def __init__(self, root):\n",
    "        self.root = Node(root)\n",
    "\n",
    "    # helper function\n",
    "    def  print_tree(self, traversal_type):\n",
    "        if traversal_type == 'preorder':\n",
    "            return self.preorder_tree(self.root, '')\n",
    "        elif traversal_type == 'inorder':\n",
    "            return self.inorder_tree(self.root, '')\n",
    "        elif traversal_type == 'postorder':\n",
    "            #return self.postorder_tree(self.root, '')\n",
    "            return self.postorder_tree(self.root, '')\n",
    "        \n",
    "    # preorder\n",
    "    def preorder_tree(self, start, traversal ):\n",
    "        \"\"\" root > left > right\"\"\"\n",
    "        if start:\n",
    "            traversal += (str(start.value) +'-')\n",
    "            traversal = self.preorder_tree(start.left, traversal)\n",
    "            traversal = self.preorder_tree(start.right, traversal)\n",
    "        return traversal\n",
    "        \n",
    "    #inorder traversal\n",
    "    \"\"\" left -> root -> right \"\"\"  \n",
    "    def inorder_tree(self, start, traversal):\n",
    "        if start:\n",
    "            traversal = self.inorder_tree(start.left, traversal)\n",
    "            traversal += (str(start.value) + '-')\n",
    "            traversal = self.inorder_tree(start.right, traversal)\n",
    "        return traversal\n",
    "        \n",
    "    # postorder\n",
    "    def postorder_tree(self, start, traversal):\n",
    "        \"\"\" left -> right -> root\"\"\"\n",
    "        if start:\n",
    "            traversal = self.postorder_tree(start.left, traversal)\n",
    "            traversal = self.postorder_tree(start.right, traversal)\n",
    "            traversal += (str(start.value) + '-')\n",
    "        return traversal\n",
    "        \n",
    "tree = BinaryTree(1)       # this will create the root node\n",
    "tree.root.left = Node(2)    # this will create left child of root 1\n",
    "tree.root.right = Node(3)    # this will create right child of root 1\n",
    "tree.root.left.left = Node(4)  # this will create left child of root 2\n",
    "tree.root.left.right = Node(5)  # this will create right child of root 2\n",
    "tree.root.right.left = Node(6) # this will create left child of root 4\n",
    "tree.root.right.right = Node(7) # this will create left child of root 4\n",
    "    \n",
    "tree.print_tree('postorder')"
   ]
  },
  {
   "cell_type": "code",
   "execution_count": null,
   "metadata": {},
   "outputs": [],
   "source": []
  }
 ],
 "metadata": {
  "kernelspec": {
   "display_name": "Python 3",
   "language": "python",
   "name": "python3"
  },
  "language_info": {
   "codemirror_mode": {
    "name": "ipython",
    "version": 3
   },
   "file_extension": ".py",
   "mimetype": "text/x-python",
   "name": "python",
   "nbconvert_exporter": "python",
   "pygments_lexer": "ipython3",
   "version": "3.6.5"
  }
 },
 "nbformat": 4,
 "nbformat_minor": 2
}
