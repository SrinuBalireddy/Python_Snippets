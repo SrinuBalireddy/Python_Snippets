{
 "cells": [
  {
   "cell_type": "code",
   "execution_count": 4,
   "metadata": {},
   "outputs": [
    {
     "data": {
      "text/plain": [
       "'4-2-5-1-6-3-7-'"
      ]
     },
     "execution_count": 4,
     "metadata": {},
     "output_type": "execute_result"
    }
   ],
   "source": [
    "# inorder\n",
    "\"\"\"\n",
    "left -> root -> right\n",
    "\n",
    "1. check if the current node is empty/null\n",
    "2. traverse the left subtree by recursively calling the inorder function\n",
    "3. display the data part of the root( or current node)\n",
    "4. traverse the right subtree by recursively calling the inorder function\n",
    "\n",
    "#             1\n",
    "#           /   \\\n",
    "#          2     3\n",
    "#         / \\   / \\\n",
    "#        4   5 6   7\n",
    "\n",
    "result : 4-2-5-1-6-3-7\n",
    "\n",
    "\"\"\"\n",
    "\n",
    "class Node(object):\n",
    "    def __init__(self, value):\n",
    "        self.value = value\n",
    "        self.left = None\n",
    "        self.right = None\n",
    "\n",
    "class BinaryTree(object):\n",
    "    def __init__(self, root):\n",
    "        self.root = Node(root)\n",
    "        \n",
    "    # helper function\n",
    "    def print_tree(self, traversal_type):\n",
    "        if traversal_type == 'preorder':\n",
    "            pass\n",
    "        if traversal_type == 'inorder':\n",
    "            return self.inorder_tree(self.root, '')\n",
    "        \n",
    "    \n",
    "    #inorder traversal\n",
    "    \"\"\" left -> root -> right \"\"\"  \n",
    "    def inorder_tree(self, start, traversal):\n",
    "        if start:\n",
    "            traversal = self.inorder_tree(start.left, traversal)\n",
    "            traversal += (str(start.value) + '-')\n",
    "            traversal = self.inorder_tree(start.right, traversal)\n",
    "        return traversal\n",
    "    \n",
    "tree = BinaryTree(1)       # this will create the root node\n",
    "tree.root.left = Node(2)    # this will create left child of root 1\n",
    "tree.root.right = Node(3)    # this will create right child of root 1\n",
    "tree.root.left.left = Node(4)  # this will create left child of root 2\n",
    "tree.root.left.right = Node(5)  # this will create right child of root 2\n",
    "tree.root.right.left = Node(6) # this will create left child of root 4\n",
    "tree.root.right.right = Node(7) # this will create left child of root 4\n",
    "    \n",
    "tree.print_tree('inorder')"
   ]
  },
  {
   "cell_type": "code",
   "execution_count": null,
   "metadata": {},
   "outputs": [],
   "source": []
  }
 ],
 "metadata": {
  "kernelspec": {
   "display_name": "Python 3",
   "language": "python",
   "name": "python3"
  },
  "language_info": {
   "codemirror_mode": {
    "name": "ipython",
    "version": 3
   },
   "file_extension": ".py",
   "mimetype": "text/x-python",
   "name": "python",
   "nbconvert_exporter": "python",
   "pygments_lexer": "ipython3",
   "version": "3.6.5"
  }
 },
 "nbformat": 4,
 "nbformat_minor": 2
}
