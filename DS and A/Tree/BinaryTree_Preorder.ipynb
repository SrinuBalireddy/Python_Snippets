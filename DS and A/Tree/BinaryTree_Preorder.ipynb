{
 "cells": [
  {
   "cell_type": "code",
   "execution_count": 1,
   "metadata": {},
   "outputs": [],
   "source": [
    "# complete binary tree\n",
    "\n",
    "class Node:\n",
    "    def __init__(self, value):\n",
    "        self.value = value\n",
    "        self.left = None\n",
    "        self.right = None\n",
    "    \n",
    "class BinaryTree(object):\n",
    "    def __init__(self, root):\n",
    "        self.root = Node(root)\n",
    "        \n",
    "\n",
    "tree = BinaryTree(1)       # this will create the root node\n",
    "tree.root.left = Node(2)    # this will create left child of root 1\n",
    "tree.root.right = Node(3)    # this will create right child of root 1\n",
    "tree.root.left.left = Node(4)  # this will create left child of root 2\n",
    "tree.root.left.right = Node(5)  # this will create right child of root 2\n",
    "tree.root.right.left = Node(6) # this will create left child of root 4\n",
    "tree.root.right.right = Node(7) # this will create left child of root 4\n",
    "\n",
    "#             1\n",
    "#           /   \\\n",
    "#          2     3\n",
    "#         / \\   / \\\n",
    "#        4   5 6   7"
   ]
  },
  {
   "cell_type": "code",
   "execution_count": 2,
   "metadata": {},
   "outputs": [],
   "source": [
    "# pre-order - when value collected ?: once I am hovering on a node I am collecting it's value.\n",
    "# in-order - when value collected ?: if the node has no left node or the left node is already visited then add this value.\n",
    "# post-order - when value collected ?:  once the node has no left  nor right or left and right has been already visited then I will collect the value.\n",
    "\n",
    "# Tree Traversal - process of visiting(checking and/or updating) each node in a tree DS exactly once.\n",
    "\n",
    "# unlike linked lists, one-d arrays etc., which are canonically traversed in linear order, trees may be traversed in \n",
    "# multiple ways. They may be traversed in depth-first or breadth-first order\n"
   ]
  },
  {
   "cell_type": "code",
   "execution_count": 7,
   "metadata": {},
   "outputs": [],
   "source": [
    "\"\"\"\n",
    "preorder -\n",
    "1. check if the current node is empty/null\n",
    "2. display the data part of the root (or current node)\n",
    "3. Traverse the left subtree by recursively calling the preorder function\n",
    "4. Traverse the right subtree by recursively calling the preorder function\n",
    "\"\"\"  \n",
    "class Node(object):\n",
    "    def __init__(self, value):\n",
    "        self.value = value\n",
    "        self.left = None\n",
    "        self.right = None\n",
    "    \n",
    "class BinaryTree(object):\n",
    "    def __init__(self, root):\n",
    "        self.root = Node(root)\n",
    "        \n",
    "        \n",
    "    # helper function\n",
    "    def print_tree(self, traversal_type):\n",
    "        if traversal_type == 'preorder':\n",
    "            return self.preorder_tree(self.root, '')\n",
    "  \n",
    "    # preorder\n",
    "    def preorder_tree(self, start, traversal ):\n",
    "        \"\"\" root > left > right\"\"\"\n",
    "        if start:\n",
    "            traversal += (str(start.value) +'-')\n",
    "            traversal = self.preorder_tree(start.left, traversal)\n",
    "            traversal = self.preorder_tree(start.right, traversal)\n",
    "        return traversal\n",
    "        \n",
    "        \n",
    "tree = BinaryTree(1)       # this will create the root node\n",
    "tree.root.left = Node(2)    # this will create left child of root 1\n",
    "tree.root.right = Node(3)    # this will create right child of root 1\n",
    "tree.root.left.left = Node(4)  # this will create left child of root 2\n",
    "tree.root.left.right = Node(5)  # this will create right child of root 2\n",
    "tree.root.right.left = Node(6) # this will create left child of root 4\n",
    "tree.root.right.right = Node(7) # this will create left child of root 4\n",
    "\n",
    "#print(tree.root.value)\n",
    "\n",
    "#tree.print_tree('preorder')"
   ]
  },
  {
   "cell_type": "code",
   "execution_count": 8,
   "metadata": {},
   "outputs": [
    {
     "data": {
      "text/plain": [
       "'1-2-4-5-3-6-7-'"
      ]
     },
     "execution_count": 8,
     "metadata": {},
     "output_type": "execute_result"
    }
   ],
   "source": [
    "tree.print_tree('preorder')"
   ]
  },
  {
   "cell_type": "code",
   "execution_count": null,
   "metadata": {},
   "outputs": [],
   "source": []
  }
 ],
 "metadata": {
  "kernelspec": {
   "display_name": "Python 3",
   "language": "python",
   "name": "python3"
  },
  "language_info": {
   "codemirror_mode": {
    "name": "ipython",
    "version": 3
   },
   "file_extension": ".py",
   "mimetype": "text/x-python",
   "name": "python",
   "nbconvert_exporter": "python",
   "pygments_lexer": "ipython3",
   "version": "3.6.5"
  }
 },
 "nbformat": 4,
 "nbformat_minor": 2
}
