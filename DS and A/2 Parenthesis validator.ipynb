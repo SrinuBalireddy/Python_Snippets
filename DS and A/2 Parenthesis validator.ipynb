{
 "cells": [
  {
   "cell_type": "code",
   "execution_count": 4,
   "metadata": {},
   "outputs": [],
   "source": [
    "class Stack:\n",
    "    \n",
    "    def __init__(self):\n",
    "        self.items=[]\n",
    "        \n",
    "    def push(self, item):\n",
    "        self.items.append(item)\n",
    "    \n",
    "    def pop(self):\n",
    "        return self.items.pop()\n",
    "    \n",
    "    def get_items(self):\n",
    "        return self.items\n",
    "    \n",
    "    def is_empty(self):\n",
    "        return self.items == []\n",
    "    \n",
    "    def peek(self):\n",
    "        if self.items:\n",
    "            return self.items[-1]\n",
    "        return \"No items in the list\""
   ]
  },
  {
   "cell_type": "code",
   "execution_count": 8,
   "metadata": {},
   "outputs": [],
   "source": [
    "def is_equal(p1, p2):\n",
    "    \n",
    "    if p1 == '(' and p2 == ')':\n",
    "        return True\n",
    "    elif p1 == '{' and p2 == '}':\n",
    "        return True\n",
    "    elif p1 == '[' and p2 == ']':\n",
    "        return True\n",
    "    else:\n",
    "        return False\n",
    "    \n",
    "def ParenBalance(paren_pattern):\n",
    "    \n",
    "    s = Stack()\n",
    "    is_balanced = True\n",
    "    \n",
    "    if len(paren_pattern) == 1:\n",
    "        return False\n",
    "    \n",
    "    for paren in paren_pattern:\n",
    "        if paren in '([{':\n",
    "            s.push(paren)\n",
    "        else:\n",
    "            if s.is_empty():\n",
    "                return False    # stack is empty and the first item is closing paren\n",
    "            else:\n",
    "                other_paren = s.pop()\n",
    "                if is_equal(other_paren, paren):\n",
    "                    continue\n",
    "                else:\n",
    "                    is_balanced = False\n",
    "\n",
    "    if s.is_empty() and is_balanced:\n",
    "        return True\n",
    "    else:\n",
    "        return False    "
   ]
  },
  {
   "cell_type": "code",
   "execution_count": 9,
   "metadata": {},
   "outputs": [
    {
     "data": {
      "text/plain": [
       "False"
      ]
     },
     "execution_count": 9,
     "metadata": {},
     "output_type": "execute_result"
    }
   ],
   "source": [
    "# ParenBalance('(){}())))')\n",
    "# ParenBalance('((((((({[{{{{{{{[]}}}}}}}]})))))))')\n",
    "ParenBalance('(()')"
   ]
  },
  {
   "cell_type": "code",
   "execution_count": null,
   "metadata": {},
   "outputs": [],
   "source": [
    "\"\"\" using class - doesn't work\"\"\"\n",
    "\n",
    "\n",
    "def is_equal(p1, p2):\n",
    "    \n",
    "    if p1 == '(' and p2 == ')':\n",
    "        return True\n",
    "    elif p1 == '{' and p2 == '}':\n",
    "        return True\n",
    "    elif p1 == '[' and p2 == ']':\n",
    "        return True\n",
    "    else:\n",
    "        return False\n",
    "\n",
    "class ParenBalance:\n",
    "    \n",
    "    s = Stack()\n",
    "    is_balanced = True\n",
    "    \n",
    "    def __init__(self, paren_pattern):\n",
    "        self.paren_pattern = paren_pattern\n",
    "    \n",
    "    def checkpattern(self):\n",
    "        for paren in self.paren_pattern:\n",
    "            if paren in '([{':\n",
    "                self.s.push(paren)\n",
    "            else:\n",
    "                if self.s.is_empty():\n",
    "                    return False    # stack is empty and the first item is closing paren\n",
    "                else:\n",
    "                    other_paren = self.s.pop()\n",
    "                    if is_equal(other_paren, paren):\n",
    "                        continue\n",
    "                    else:\n",
    "                        is_balanced = False\n",
    "\n",
    "        if is_balanced:\n",
    "            return True\n",
    "        else:\n",
    "            return False\n",
    "        \n",
    "p = ParenBalance('()')\n",
    "p.checkpattern()"
   ]
  },
  {
   "cell_type": "code",
   "execution_count": null,
   "metadata": {},
   "outputs": [],
   "source": [
    "# Lucid code\n",
    "\n",
    "def validate_paren()"
   ]
  }
 ],
 "metadata": {
  "kernelspec": {
   "display_name": "Python 3",
   "language": "python",
   "name": "python3"
  },
  "language_info": {
   "codemirror_mode": {
    "name": "ipython",
    "version": 3
   },
   "file_extension": ".py",
   "mimetype": "text/x-python",
   "name": "python",
   "nbconvert_exporter": "python",
   "pygments_lexer": "ipython3",
   "version": "3.6.5"
  }
 },
 "nbformat": 4,
 "nbformat_minor": 2
}
