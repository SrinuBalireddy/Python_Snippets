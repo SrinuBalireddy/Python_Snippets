{
 "cells": [
  {
   "cell_type": "code",
   "execution_count": null,
   "metadata": {},
   "outputs": [],
   "source": [
    "\"\"\"\n",
    "To capitalize the first alphabet in a given string\n",
    "constraint - 12am should not be capitalized as 12Am\n",
    "\"\"\"\n",
    "#My solution\n",
    "\n",
    "#!/bin/python3\n",
    "\n",
    "import math\n",
    "import os\n",
    "import random\n",
    "import re\n",
    "import sys\n",
    "\n",
    "# Complete the solve function below.\n",
    "def solve(s):\n",
    "\n",
    "    if s:\n",
    "        ilist = s.split(' ')\n",
    "        out=''\n",
    "        print(ilist)\n",
    "\n",
    "        for str in ilist:\n",
    "            if str:\n",
    "                if str[0].isalpha():\n",
    "                    out += str.title()+' '\n",
    "                else:\n",
    "                    out += str+ ' '\n",
    "            else:\n",
    "                out += ' '\n",
    "\n",
    "        return out.strip()\n",
    "    else:\n",
    "        return s\n",
    "\n",
    "if __name__ == '__main__':\n",
    "    fptr = open(os.environ['OUTPUT_PATH'], 'w')\n",
    "    s = input()\n",
    "    result = solve(s)\n",
    "    fptr.write(result + '\\n')\n",
    "    fptr.close()\n",
    "\n",
    "# easy  solution\n",
    "\n",
    "import string\n",
    "print(string.capwords(input(), ' '))"
   ]
  },
  {
   "cell_type": "code",
   "execution_count": null,
   "metadata": {},
   "outputs": [],
   "source": []
  }
 ],
 "metadata": {
  "kernelspec": {
   "display_name": "Python 3",
   "language": "python",
   "name": "python3"
  },
  "language_info": {
   "codemirror_mode": {
    "name": "ipython",
    "version": 3
   },
   "file_extension": ".py",
   "mimetype": "text/x-python",
   "name": "python",
   "nbconvert_exporter": "python",
   "pygments_lexer": "ipython3",
   "version": "3.6.5"
  }
 },
 "nbformat": 4,
 "nbformat_minor": 2
}
